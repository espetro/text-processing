{
 "cells": [
  {
   "cell_type": "markdown",
   "metadata": {},
   "source": [
    "# Text Recognition Model: Training and Tuning\n",
    "\n",
    "> NOTE: This sample notebook has been executed in a laptop without a GPU, hence the bad results."
   ]
  },
  {
   "cell_type": "code",
   "execution_count": 1,
   "metadata": {},
   "outputs": [],
   "source": [
    "from tfgpkg.recognition import DataUnpack, DataGen\n",
    "from tfgpkg.recognition.word import StringVectorizer, RecognitionNet, Arch\n",
    "from tfgpkg.recognition.datagen import DataGen\n",
    "from tensorflow import keras\n",
    "\n",
    "from shutil import make_archive, rmtree as rm_dir\n",
    "from tempfile import TemporaryDirectory\n",
    "\n",
    "import matplotlib.pyplot as plt\n",
    "import tensorflow as tf\n",
    "import pandas as pd\n",
    "import numpy as np\n",
    "import h5py as h5\n",
    "import cv2\n",
    "import os"
   ]
  },
  {
   "cell_type": "code",
   "execution_count": 2,
   "metadata": {},
   "outputs": [
    {
     "data": {
      "text/plain": [
       "'2.2.0'"
      ]
     },
     "execution_count": 2,
     "metadata": {},
     "output_type": "execute_result"
    }
   ],
   "source": [
    "tf.__version__"
   ]
  },
  {
   "cell_type": "code",
   "execution_count": 2,
   "metadata": {},
   "outputs": [
    {
     "name": "stdout",
     "output_type": "stream",
     "text": [
      "4.0\n"
     ]
    }
   ],
   "source": [
    "MAX_WORD_LENGTH = 34  # 24\n",
    "\n",
    "width, height = TARGET_SIZE = (256, 64)  # (192, 48)\n",
    "IMAGE_RATIO = width / height\n",
    "print(IMAGE_RATIO)"
   ]
  },
  {
   "cell_type": "markdown",
   "metadata": {},
   "source": [
    "### Data and Model Loading"
   ]
  },
  {
   "cell_type": "code",
   "execution_count": 6,
   "metadata": {},
   "outputs": [],
   "source": [
    "mini_dataset_dir = \"../../data-sources/minified/\" # 'iam.h5', 'rimes2011.h5', 'spanish-words-mini.h5', 'spanish.h5'\n",
    "dataset_dest_dir = TemporaryDirectory(prefix=\"htr_\").name\n",
    "\n",
    "save_to_disk = False\n",
    "\n",
    "train_spa, test_spa, valid_spa = DataUnpack.unpack(\n",
    "    f\"{mini_dataset_dir}/spanish.h5\",\n",
    "    dest_dir=dataset_dest_dir,\n",
    "    color=False,\n",
    "    save_to_disk=save_to_disk,  # if the dataset is quite big or not enough ram\n",
    "    target_size=TARGET_SIZE,\n",
    "    aspect_ratio=IMAGE_RATIO\n",
    ")\n",
    "\n",
    "if save_to_disk:\n",
    "    print(f\"Unpacking dataset to {dataset_dest_dir}\")"
   ]
  },
  {
   "cell_type": "code",
   "execution_count": 9,
   "metadata": {},
   "outputs": [
    {
     "name": "stdout",
     "output_type": "stream",
     "text": [
      "(396, 256, 64, 1) (396,)\n"
     ]
    }
   ],
   "source": [
    "print(train_spa[0].shape, train_spa[1].shape)"
   ]
  },
  {
   "cell_type": "code",
   "execution_count": 3,
   "metadata": {},
   "outputs": [],
   "source": [
    "train_logdir = \"training_logs\"\n",
    "os.makedirs(train_logdir, exist_ok=True)\n",
    "\n",
    "net = RecognitionNet(\n",
    "    logdir=train_logdir,\n",
    "    input_size=(*TARGET_SIZE, 1)\n",
    "    # arch=Arch.Gated\n",
    "    # charset=RecognitionNet.LATIN_CHAR\n",
    ")"
   ]
  },
  {
   "cell_type": "code",
   "execution_count": 5,
   "metadata": {},
   "outputs": [],
   "source": [
    "# net.model.summary()"
   ]
  },
  {
   "cell_type": "code",
   "execution_count": null,
   "metadata": {},
   "outputs": [],
   "source": [
    "# remove the temporal directory in the end\n",
    "if save_to_disk:\n",
    "    rm_dir(dataset_dest_dir)"
   ]
  },
  {
   "cell_type": "markdown",
   "metadata": {},
   "source": [
    "### Data Augmentation"
   ]
  },
  {
   "cell_type": "code",
   "execution_count": 7,
   "metadata": {},
   "outputs": [],
   "source": [
    "BATCH_SIZE = 32\n",
    "\n",
    "train_opts = dict(width_shift_range=0.2, height_shift_range=0.2, zoom_range=0.2, shear_range=0.2)\n",
    "\n",
    "train_gen, test_gen, valid_gen = DataGen(train_spa, test_spa, valid_spa, train_opts).from_tuple(BATCH_SIZE)"
   ]
  },
  {
   "cell_type": "markdown",
   "metadata": {},
   "source": [
    "### Train the model"
   ]
  },
  {
   "cell_type": "code",
   "execution_count": null,
   "metadata": {},
   "outputs": [],
   "source": [
    "train_gen.reset()\n",
    "valid_gen.reset()"
   ]
  },
  {
   "cell_type": "code",
   "execution_count": 8,
   "metadata": {},
   "outputs": [
    {
     "name": "stdout",
     "output_type": "stream",
     "text": [
      "Epoch 1/20\n",
      "12/12 [==============================] - 15s 1s/step - loss: 67.4687 - val_loss: 52.8600 - lr: 0.0010\n",
      "Epoch 2/20\n",
      "12/12 [==============================] - 14s 1s/step - loss: 27.3092 - val_loss: 31.9111 - lr: 0.0010\n",
      "Epoch 3/20\n",
      "12/12 [==============================] - 12s 1s/step - loss: 21.6931 - val_loss: 42.0558 - lr: 0.0010\n",
      "Epoch 4/20\n",
      "12/12 [==============================] - 13s 1s/step - loss: 20.4408 - val_loss: 25.7551 - lr: 0.0010\n",
      "Epoch 5/20\n",
      "12/12 [==============================] - 12s 1s/step - loss: 20.0058 - val_loss: 27.7296 - lr: 0.0010\n",
      "Epoch 6/20\n",
      "12/12 [==============================] - 12s 967ms/step - loss: 19.4122 - val_loss: 26.5105 - lr: 0.0010\n",
      "Epoch 7/20\n",
      "12/12 [==============================] - 12s 1s/step - loss: 20.1827 - val_loss: 27.2033 - lr: 0.0010\n",
      "Epoch 8/20\n",
      "12/12 [==============================] - 13s 1s/step - loss: 19.3412 - val_loss: 29.6850 - lr: 0.0010\n",
      "Epoch 9/20\n",
      "12/12 [==============================] - 13s 1s/step - loss: 19.1662 - val_loss: 27.6779 - lr: 0.0010\n",
      "Epoch 10/20\n",
      "12/12 [==============================] - 12s 990ms/step - loss: 19.3318 - val_loss: 26.6370 - lr: 0.0010\n",
      "Epoch 11/20\n",
      "12/12 [==============================] - 12s 983ms/step - loss: 19.2452 - val_loss: 28.1766 - lr: 0.0010\n",
      "Epoch 12/20\n",
      "12/12 [==============================] - 12s 961ms/step - loss: 18.9839 - val_loss: 27.1884 - lr: 0.0010\n",
      "Epoch 13/20\n",
      "12/12 [==============================] - 12s 966ms/step - loss: 19.0889 - val_loss: 29.7118 - lr: 0.0010\n",
      "Epoch 14/20\n",
      "12/12 [==============================] - 12s 1000ms/step - loss: 18.9487 - val_loss: 28.5081 - lr: 0.0010\n",
      "Epoch 15/20\n",
      "12/12 [==============================] - 12s 1s/step - loss: 18.6989 - val_loss: 29.6872 - lr: 0.0010\n",
      "Epoch 16/20\n",
      "12/12 [==============================] - 11s 954ms/step - loss: 19.0007 - val_loss: 24.9592 - lr: 0.0010\n",
      "Epoch 17/20\n",
      "12/12 [==============================] - 12s 974ms/step - loss: 18.6991 - val_loss: 29.2007 - lr: 0.0010\n",
      "Epoch 18/20\n",
      "12/12 [==============================] - 12s 958ms/step - loss: 18.4213 - val_loss: 29.6183 - lr: 0.0010\n",
      "Epoch 19/20\n",
      "12/12 [==============================] - 12s 979ms/step - loss: 18.9169 - val_loss: 29.0500 - lr: 0.0010\n",
      "Epoch 20/20\n",
      "12/12 [==============================] - 12s 991ms/step - loss: 18.4550 - val_loss: 29.9407 - lr: 0.0010\n",
      "Wall time: 4min 36s\n"
     ]
    }
   ],
   "source": [
    "%%time\n",
    "\n",
    "EPOCHS = 20\n",
    "\n",
    "training_results = net.model.fit(\n",
    "    train_gen,\n",
    "    steps_per_epoch=train_gen.n // BATCH_SIZE,\n",
    "    validation_data=valid_gen,\n",
    "    validation_steps=valid_gen.n // BATCH_SIZE,\n",
    "    epochs=EPOCHS,\n",
    "    callbacks=net.callbacks,\n",
    "    verbose=1\n",
    ")"
   ]
  },
  {
   "cell_type": "markdown",
   "metadata": {},
   "source": [
    "#### Check the statistics"
   ]
  },
  {
   "cell_type": "code",
   "execution_count": 9,
   "metadata": {
    "scrolled": false
   },
   "outputs": [
    {
     "data": {
      "image/png": "[encoded data removed]",
      "text/plain": [
       "<Figure size 576x576 with 4 Axes>"
      ]
     },
     "metadata": {
      "needs_background": "light"
     },
     "output_type": "display_data"
    }
   ],
   "source": [
    "_, axes = plt.subplots(2,2, figsize=(8,8))\n",
    "axes = axes.flatten()\n",
    "\n",
    "axes[0].plot(training_results.history[\"loss\"])\n",
    "axes[0].set_title(\"Training loss\")\n",
    "\n",
    "axes[1].plot(training_results.history[\"lr\"])\n",
    "axes[1].set_title(\"Learning rate\")\n",
    "\n",
    "axes[2].plot(training_results.history[\"val_loss\"])\n",
    "axes[2].set_title(\"Validation loss\")\n",
    "\n",
    "plt.show()"
   ]
  },
  {
   "cell_type": "markdown",
   "metadata": {},
   "source": [
    "#### Compute the WER and CER"
   ]
  },
  {
   "cell_type": "code",
   "execution_count": 97,
   "metadata": {
    "scrolled": true
   },
   "outputs": [
    {
     "name": "stdout",
     "output_type": "stream",
     "text": [
      "Model Predict\n",
      "1/1 [==============================] - 0s 999us/step\n",
      "CTC Decode\n",
      "1/1 [==============================] - 0s 94ms/step\n",
      "\n",
      "111\n"
     ]
    }
   ],
   "source": [
    "test_gen.reset()\n",
    "\n",
    "predictions, _ = net.predict(\n",
    "    test_gen.x,\n",
    "    # steps=train_gen.n // BATCH_SIZE,\n",
    "    # batch_size=BATCH_SIZE,\n",
    "    verbose=1\n",
    ")\n",
    "\n",
    "print(f\"\\n{len(predictions)}\")\n",
    "\n",
    "predictions = np.array(predictions).reshape(111, -1)"
   ]
  },
  {
   "cell_type": "code",
   "execution_count": 103,
   "metadata": {},
   "outputs": [],
   "source": [
    "true_labels = [vectorizer.decode(encoded_vector) for encoded_vector in test_gen.y]\n",
    "pred_labels = [vectorizer.decode(encoded_vector) for encoded_vector in predictions]"
   ]
  },
  {
   "cell_type": "code",
   "execution_count": 105,
   "metadata": {},
   "outputs": [
    {
     "data": {
      "text/plain": [
       "1.0"
      ]
     },
     "execution_count": 105,
     "metadata": {},
     "output_type": "execute_result"
    }
   ],
   "source": [
    "RecognitionNet.compute_cer(true_labels, pred_labels) # the closer to 1.0, the worse"
   ]
  },
  {
   "cell_type": "code",
   "execution_count": null,
   "metadata": {},
   "outputs": [],
   "source": [
    "wer_results = [RecognitionNet.compute_wer(t, p) for t, p in zip(true_labels, pred_labels)]\n",
    "\n",
    "print(np.mean(wer_results))\n",
    "\n",
    "# the closer to 0.0, the better"
   ]
  },
  {
   "cell_type": "markdown",
   "metadata": {},
   "source": [
    "#### Evaluate the test dataset"
   ]
  },
  {
   "cell_type": "code",
   "execution_count": 26,
   "metadata": {},
   "outputs": [
    {
     "name": "stdout",
     "output_type": "stream",
     "text": [
      "12/12 [==============================] - 2s 142ms/step - loss: 29.4174\n"
     ]
    }
   ],
   "source": [
    "test_gen.reset()\n",
    "\n",
    "net.model.evaluate(\n",
    "    test_gen,\n",
    "    steps=train_gen.n // BATCH_SIZE,\n",
    "    batch_size=BATCH_SIZE,\n",
    "    verbose=1\n",
    ")"
   ]
  },
  {
   "cell_type": "markdown",
   "metadata": {},
   "source": [
    "#### Test a network prediction"
   ]
  },
  {
   "cell_type": "code",
   "execution_count": 10,
   "metadata": {},
   "outputs": [],
   "source": [
    "test_gen.reset()\n",
    "test_batch = test_gen.next()"
   ]
  },
  {
   "cell_type": "code",
   "execution_count": 14,
   "metadata": {},
   "outputs": [
    {
     "name": "stdout",
     "output_type": "stream",
     "text": [
      "(32, 256, 64, 1) (32, 34)\n",
      "México\n"
     ]
    },
    {
     "data": {
      "image/png": "[encoded data removed]",
      "text/plain": [
       "<Figure size 432x288 with 1 Axes>"
      ]
     },
     "metadata": {
      "needs_background": "light"
     },
     "output_type": "display_data"
    }
   ],
   "source": [
    "from keras.preprocessing.image import load_img, img_to_array\n",
    "\n",
    "vectorizer = StringVectorizer()\n",
    "\n",
    "print(test_batch[0].shape, test_batch[1].shape)\n",
    "\n",
    "sample_idx = np.random.randint(BATCH_SIZE)\n",
    "\n",
    "test_vector = test_batch[1][sample_idx, :]\n",
    "print(vectorizer.decode(test_vector))\n",
    "\n",
    "test_image = test_batch[0][sample_idx,:,:,0]\n",
    "plt.imshow(test_image.transpose(), cmap=\"gray\")\n",
    "plt.axis(\"off\")\n",
    "plt.show()"
   ]
  },
  {
   "cell_type": "code",
   "execution_count": 22,
   "metadata": {
    "scrolled": true
   },
   "outputs": [],
   "source": [
    "test_image_pred = np.expand_dims(test_image, axis=[0,-1])\n",
    "\n",
    "preds, probs = net.predict(test_image_pred)"
   ]
  },
  {
   "cell_type": "code",
   "execution_count": 23,
   "metadata": {},
   "outputs": [
    {
     "name": "stdout",
     "output_type": "stream",
     "text": [
      "a\n"
     ]
    }
   ],
   "source": [
    "vector = list(preds[0][0])\n",
    "\n",
    "predicted_text = vectorizer.decode(vector)\n",
    "\n",
    "print(predicted_text)"
   ]
  },
  {
   "cell_type": "markdown",
   "metadata": {},
   "source": [
    "### Save the trained model to `protobuf` (portable) format"
   ]
  },
  {
   "cell_type": "code",
   "execution_count": 113,
   "metadata": {},
   "outputs": [
    {
     "data": {
      "text/plain": [
       "'C:\\\\Users\\\\Pachacho\\\\Documents\\\\TFG_2020\\\\src\\\\packages\\\\playground\\\\trained_models\\\\gated_spanish_20e.zip'"
      ]
     },
     "execution_count": 113,
     "metadata": {},
     "output_type": "execute_result"
    }
   ],
   "source": [
    "trained_model_dir = \"trained_models\"\n",
    "trained_model_name = \"gated_spanish\"\n",
    "\n",
    "os.makedirs(trained_model_dir, exist_ok=True)\n",
    "\n",
    "net.model.save(f\"./{trained_model_dir}/{trained_model_name}_{EPOCHS}e\")\n",
    "make_archive(\n",
    "    f\"./{trained_model_dir}/{trained_model_name}_{EPOCHS}e\",\n",
    "    \"zip\",\n",
    "    f\"./{trained_model_dir}/{trained_model_name}_{EPOCHS}e/\"\n",
    ")"
   ]
  }
 ],
 "metadata": {
  "kernelspec": {
   "display_name": "Python 3",
   "language": "python",
   "name": "python3"
  },
  "language_info": {
   "codemirror_mode": {
    "name": "ipython",
    "version": 3
   },
   "file_extension": ".py",
   "mimetype": "text/x-python",
   "name": "python",
   "nbconvert_exporter": "python",
   "pygments_lexer": "ipython3",
   "version": "3.7.7"
  }
 },
 "nbformat": 4,
 "nbformat_minor": 4
}
