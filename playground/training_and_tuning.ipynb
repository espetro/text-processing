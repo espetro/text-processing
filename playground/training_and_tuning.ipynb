{
 "cells": [
  {
   "cell_type": "markdown",
   "metadata": {},
   "source": [
    "# Text Recognition Model: Training and Tuning\n",
    "\n",
    "> NOTE: This sample notebook has been executed in a laptop without a GPU, hence the bad results."
   ]
  },
  {
   "cell_type": "code",
   "execution_count": null,
   "metadata": {},
   "outputs": [],
   "source": [
    "# pip install googledrivedownloader"
   ]
  },
  {
   "cell_type": "code",
   "execution_count": 1,
   "metadata": {},
   "outputs": [],
   "source": [
    "from tfgpkg.recognition import DataUnpack, DataGen\n",
    "from tfgpkg.recognition.word import StringVectorizer, RecognitionNet, Arch\n",
    "from tfgpkg.recognition.datagen import DataGen\n",
    "from tensorflow import keras\n",
    "\n",
    "from google_drive_downloader import GoogleDriveDownloader as gdd\n",
    "from shutil import make_archive, rmtree as rm_dir\n",
    "from tempfile import TemporaryDirectory\n",
    "\n",
    "import matplotlib.pyplot as plt\n",
    "import tensorflow as tf\n",
    "import pandas as pd\n",
    "import numpy as np\n",
    "import h5py as h5\n",
    "import cv2\n",
    "import os"
   ]
  },
  {
   "cell_type": "code",
   "execution_count": 2,
   "metadata": {},
   "outputs": [
    {
     "data": {
      "text/plain": [
       "'2.3.1'"
      ]
     },
     "execution_count": 2,
     "metadata": {},
     "output_type": "execute_result"
    }
   ],
   "source": [
    "tf.__version__"
   ]
  },
  {
   "cell_type": "code",
   "execution_count": 3,
   "metadata": {},
   "outputs": [
    {
     "name": "stdout",
     "output_type": "stream",
     "text": [
      "[PhysicalDevice(name='/physical_device:CPU:0', device_type='CPU'), PhysicalDevice(name='/physical_device:GPU:0', device_type='GPU')] \n",
      "\n"
     ]
    }
   ],
   "source": [
    "visible_devices = tf.config.experimental.get_visible_devices()\n",
    "\n",
    "print(visible_devices, \"\\n\")"
   ]
  },
  {
   "cell_type": "code",
   "execution_count": null,
   "metadata": {},
   "outputs": [],
   "source": [
    "# help(tf.config.experimental.set_visible_devices)"
   ]
  },
  {
   "cell_type": "code",
   "execution_count": 4,
   "metadata": {},
   "outputs": [],
   "source": [
    "tf.config.experimental.set_visible_devices(visible_devices[0])  # it drops some physical devices from the logical devices"
   ]
  },
  {
   "cell_type": "code",
   "execution_count": 5,
   "metadata": {},
   "outputs": [
    {
     "name": "stdout",
     "output_type": "stream",
     "text": [
      "[LogicalDevice(name='/device:CPU:0', device_type='CPU'), LogicalDevice(name='/device:XLA_CPU:0', device_type='XLA_CPU')]\n"
     ]
    }
   ],
   "source": [
    "print(tf.config.list_logical_devices())"
   ]
  },
  {
   "cell_type": "markdown",
   "metadata": {},
   "source": [
    "### Data Download (just once)"
   ]
  },
  {
   "cell_type": "code",
   "execution_count": 6,
   "metadata": {},
   "outputs": [],
   "source": [
    "dataset_dest_dir = \"datasets\"\n",
    "os.makedirs(dataset_dest_dir, exist_ok=True)"
   ]
  },
  {
   "cell_type": "code",
   "execution_count": null,
   "metadata": {},
   "outputs": [],
   "source": [
    "drive_ids = {\n",
    "    \"spanish\": \"1Xt_Mq-Alg0yptfKgoxXoD-O0-Iyj5-2s\",\n",
    "    \"iam\": \"11pUW60azvr722I7LaKS9s2pzwm_Con6V\",\n",
    "    \"rimes\": \"1wb4CEHOV0JSIt2VaqXhGUeHfV5wzbHlg\"\n",
    "}\n",
    "url_format = \"https://drive.google.com/uc?id={}\"\n",
    "\n",
    "# gdd.download_file_from_google_drive(drive_ids[\"spanish\"], dest_path=f\"./{dataset_dest_dir}/spanish.h5\")\n",
    "# gdd.download_file_from_google_drive(drive_ids[\"iam\"], dest_path=f\"./{dataset_dest_dir}/iam.h5\")\n",
    "# gdd.download_file_from_google_drive(drive_ids[\"rimes\"], dest_path=f\"./{dataset_dest_dir}/rimes.h5\")"
   ]
  },
  {
   "cell_type": "code",
   "execution_count": 7,
   "metadata": {},
   "outputs": [
    {
     "name": "stdout",
     "output_type": "stream",
     "text": [
      "4.0\n"
     ]
    }
   ],
   "source": [
    "MAX_WORD_LENGTH = 34  # 24\n",
    "\n",
    "width, height = TARGET_SIZE = {\n",
    "    \"vsmall\": (64, 16), # .25\n",
    "    \"small\": (128, 32), # .50\n",
    "    \"medium\": (192, 48), # .75\n",
    "    \"original\": (256, 64)\n",
    "}[\"medium\"]\n",
    "\n",
    "IMAGE_RATIO = width / height\n",
    "print(IMAGE_RATIO)"
   ]
  },
  {
   "cell_type": "markdown",
   "metadata": {},
   "source": [
    "### Data and Model Loading"
   ]
  },
  {
   "cell_type": "code",
   "execution_count": 5,
   "metadata": {},
   "outputs": [
    {
     "name": "stdout",
     "output_type": "stream",
     "text": [
      "CPU times: user 380 ms, sys: 8.05 ms, total: 388 ms\n",
      "Wall time: 390 ms\n"
     ]
    }
   ],
   "source": [
    "%%time\n",
    "\n",
    "unzip_dataset_dest_dir = TemporaryDirectory(prefix=\"htr_\").name\n",
    "save_to_disk = False\n",
    "\n",
    "# train_spa, test_spa, valid_spa \n",
    "# train_rimes, test_rimes, valid_rimes\n",
    "# train_iam, test_iam, valid_iam\n",
    "\n",
    "# train_set, test_set, valid_set\n",
    "\n",
    "train_set, test_set, valid_set = DataUnpack.unpack(\n",
    "    f\"{dataset_dest_dir}/spanish.h5\",\n",
    "    dest_dir=unzip_dataset_dest_dir,\n",
    "    color=False,\n",
    "    save_to_disk=save_to_disk,  # if the dataset is quite big or not enough ram\n",
    "    target_size=TARGET_SIZE,\n",
    "    aspect_ratio=IMAGE_RATIO\n",
    ")\n",
    "\n",
    "if save_to_disk:\n",
    "    print(f\"Unpacking dataset to {unzip_dataset_dest_dir}\")"
   ]
  },
  {
   "cell_type": "code",
   "execution_count": 6,
   "metadata": {
    "scrolled": true
   },
   "outputs": [
    {
     "name": "stdout",
     "output_type": "stream",
     "text": [
      "(396, 192, 48, 1) (396,)\n"
     ]
    }
   ],
   "source": [
    "print(train_set[0].shape, train_set[1].shape)"
   ]
  },
  {
   "cell_type": "markdown",
   "metadata": {},
   "source": [
    "#### Create a new model..."
   ]
  },
  {
   "cell_type": "code",
   "execution_count": 10,
   "metadata": {},
   "outputs": [],
   "source": [
    "train_logdir = \"training_logs\"\n",
    "os.makedirs(train_logdir, exist_ok=True)\n",
    "\n",
    "net = RecognitionNet(\n",
    "    logdir=train_logdir,\n",
    "    input_size=(*TARGET_SIZE, 1),\n",
    "    arch=Arch.Depthwise\n",
    "    # charset=RecognitionNet.LATIN_CHAR\n",
    ")"
   ]
  },
  {
   "cell_type": "code",
   "execution_count": null,
   "metadata": {
    "scrolled": true
   },
   "outputs": [],
   "source": [
    "# gated, 75% input size\n",
    "# net.model.summary()"
   ]
  },
  {
   "cell_type": "code",
   "execution_count": null,
   "metadata": {
    "scrolled": true
   },
   "outputs": [],
   "source": [
    "# gated, original input size\n",
    "# net.model.summary()"
   ]
  },
  {
   "cell_type": "code",
   "execution_count": null,
   "metadata": {
    "scrolled": true
   },
   "outputs": [],
   "source": [
    "# depthwise, original input size\n",
    "# net.model.summary()"
   ]
  },
  {
   "cell_type": "code",
   "execution_count": 6,
   "metadata": {
    "scrolled": true
   },
   "outputs": [
    {
     "name": "stdout",
     "output_type": "stream",
     "text": [
      "Model: \"model\"\n",
      "__________________________________________________________________________________________________\n",
      "Layer (type)                    Output Shape         Param #     Connected to                     \n",
      "==================================================================================================\n",
      "input (InputLayer)              [(None, 192, 48, 1)] 0                                            \n",
      "__________________________________________________________________________________________________\n",
      "octave_conv2d (OctaveConv2D)    [(None, 96, 24, 14), 160         input[0][0]                      \n",
      "__________________________________________________________________________________________________\n",
      "batch_normalization_1 (BatchNor (None, 48, 12, 2)    8           octave_conv2d[0][1]              \n",
      "__________________________________________________________________________________________________\n",
      "batch_normalization (BatchNorma (None, 96, 24, 14)   56          octave_conv2d[0][0]              \n",
      "__________________________________________________________________________________________________\n",
      "up_sampling2d (UpSampling2D)    (None, 96, 24, 2)    0           batch_normalization_1[0][0]      \n",
      "__________________________________________________________________________________________________\n",
      "concatenate (Concatenate)       (None, 96, 24, 16)   0           batch_normalization[0][0]        \n",
      "                                                                 up_sampling2d[0][0]              \n",
      "__________________________________________________________________________________________________\n",
      "p_re_lu (PReLU)                 (None, 96, 24, 16)   16          concatenate[0][0]                \n",
      "__________________________________________________________________________________________________\n",
      "octave_conv2d_1 (OctaveConv2D)  [(None, 96, 24, 28), 4640        p_re_lu[0][0]                    \n",
      "__________________________________________________________________________________________________\n",
      "batch_normalization_3 (BatchNor (None, 48, 12, 4)    16          octave_conv2d_1[0][1]            \n",
      "__________________________________________________________________________________________________\n",
      "batch_normalization_2 (BatchNor (None, 96, 24, 28)   112         octave_conv2d_1[0][0]            \n",
      "__________________________________________________________________________________________________\n",
      "up_sampling2d_1 (UpSampling2D)  (None, 96, 24, 4)    0           batch_normalization_3[0][0]      \n",
      "__________________________________________________________________________________________________\n",
      "concatenate_1 (Concatenate)     (None, 96, 24, 32)   0           batch_normalization_2[0][0]      \n",
      "                                                                 up_sampling2d_1[0][0]            \n",
      "__________________________________________________________________________________________________\n",
      "p_re_lu_1 (PReLU)               (None, 96, 24, 32)   32          concatenate_1[0][0]              \n",
      "__________________________________________________________________________________________________\n",
      "octave_conv2d_2 (OctaveConv2D)  [(None, 48, 6, 35),  10280       p_re_lu_1[0][0]                  \n",
      "__________________________________________________________________________________________________\n",
      "batch_normalization_5 (BatchNor (None, 24, 3, 5)     20          octave_conv2d_2[0][1]            \n",
      "__________________________________________________________________________________________________\n",
      "batch_normalization_4 (BatchNor (None, 48, 6, 35)    140         octave_conv2d_2[0][0]            \n",
      "__________________________________________________________________________________________________\n",
      "up_sampling2d_2 (UpSampling2D)  (None, 48, 6, 5)     0           batch_normalization_5[0][0]      \n",
      "__________________________________________________________________________________________________\n",
      "concatenate_2 (Concatenate)     (None, 48, 6, 40)    0           batch_normalization_4[0][0]      \n",
      "                                                                 up_sampling2d_2[0][0]            \n",
      "__________________________________________________________________________________________________\n",
      "p_re_lu_2 (PReLU)               (None, 48, 6, 40)    40          concatenate_2[0][0]              \n",
      "__________________________________________________________________________________________________\n",
      "octave_conv2d_3 (OctaveConv2D)  [(None, 48, 6, 42),  17328       p_re_lu_2[0][0]                  \n",
      "__________________________________________________________________________________________________\n",
      "batch_normalization_7 (BatchNor (None, 24, 3, 6)     24          octave_conv2d_3[0][1]            \n",
      "__________________________________________________________________________________________________\n",
      "batch_normalization_6 (BatchNor (None, 48, 6, 42)    168         octave_conv2d_3[0][0]            \n",
      "__________________________________________________________________________________________________\n",
      "up_sampling2d_3 (UpSampling2D)  (None, 48, 6, 6)     0           batch_normalization_7[0][0]      \n",
      "__________________________________________________________________________________________________\n",
      "concatenate_3 (Concatenate)     (None, 48, 6, 48)    0           batch_normalization_6[0][0]      \n",
      "                                                                 up_sampling2d_3[0][0]            \n",
      "__________________________________________________________________________________________________\n",
      "p_re_lu_3 (PReLU)               (None, 48, 6, 48)    48          concatenate_3[0][0]              \n",
      "__________________________________________________________________________________________________\n",
      "octave_conv2d_4 (OctaveConv2D)  [(None, 48, 6, 56),  27712       p_re_lu_3[0][0]                  \n",
      "__________________________________________________________________________________________________\n",
      "batch_normalization_9 (BatchNor (None, 24, 3, 8)     32          octave_conv2d_4[0][1]            \n",
      "__________________________________________________________________________________________________\n",
      "batch_normalization_8 (BatchNor (None, 48, 6, 56)    224         octave_conv2d_4[0][0]            \n",
      "__________________________________________________________________________________________________\n",
      "up_sampling2d_4 (UpSampling2D)  (None, 48, 6, 8)     0           batch_normalization_9[0][0]      \n",
      "__________________________________________________________________________________________________\n",
      "concatenate_4 (Concatenate)     (None, 48, 6, 64)    0           batch_normalization_8[0][0]      \n",
      "                                                                 up_sampling2d_4[0][0]            \n",
      "__________________________________________________________________________________________________\n",
      "p_re_lu_4 (PReLU)               (None, 48, 6, 64)    64          concatenate_4[0][0]              \n",
      "__________________________________________________________________________________________________\n",
      "max_pooling2d (MaxPooling2D)    (None, 48, 3, 64)    0           p_re_lu_4[0][0]                  \n",
      "__________________________________________________________________________________________________\n",
      "reshape (Reshape)               (None, 48, 192)      0           max_pooling2d[0][0]              \n",
      "__________________________________________________________________________________________________\n",
      "bidirectional (Bidirectional)   (None, 48, 384)      444672      reshape[0][0]                    \n",
      "__________________________________________________________________________________________________\n",
      "dense (Dense)                   (None, 48, 384)      147840      bidirectional[0][0]              \n",
      "__________________________________________________________________________________________________\n",
      "bidirectional_1 (Bidirectional) (None, 48, 384)      665856      dense[0][0]                      \n",
      "__________________________________________________________________________________________________\n",
      "dense_1 (Dense)                 (None, 48, 119)      45815       bidirectional_1[0][0]            \n",
      "__________________________________________________________________________________________________\n",
      "activation (Activation)         (None, 48, 119)      0           dense_1[0][0]                    \n",
      "==================================================================================================\n",
      "Total params: 1,365,303\n",
      "Trainable params: 1,364,903\n",
      "Non-trainable params: 400\n",
      "__________________________________________________________________________________________________\n"
     ]
    }
   ],
   "source": [
    "# octave, 75% input size\n",
    "# net.model.summary()"
   ]
  },
  {
   "cell_type": "code",
   "execution_count": 12,
   "metadata": {
    "scrolled": true
   },
   "outputs": [
    {
     "name": "stdout",
     "output_type": "stream",
     "text": [
      "Model: \"model\"\n",
      "_________________________________________________________________\n",
      "Layer (type)                 Output Shape              Param #   \n",
      "=================================================================\n",
      "input (InputLayer)           [(None, 192, 48, 1)]      0         \n",
      "_________________________________________________________________\n",
      "conv2d (Conv2D)              (None, 96, 24, 16)        160       \n",
      "_________________________________________________________________\n",
      "p_re_lu (PReLU)              (None, 96, 24, 16)        16        \n",
      "_________________________________________________________________\n",
      "batch_normalization (BatchNo (None, 96, 24, 16)        64        \n",
      "_________________________________________________________________\n",
      "conv2d_1 (Conv2D)            (None, 96, 24, 32)        4640      \n",
      "_________________________________________________________________\n",
      "p_re_lu_1 (PReLU)            (None, 96, 24, 32)        32        \n",
      "_________________________________________________________________\n",
      "batch_normalization_1 (Batch (None, 96, 24, 32)        128       \n",
      "_________________________________________________________________\n",
      "conv2d_2 (Conv2D)            (None, 48, 6, 40)         10280     \n",
      "_________________________________________________________________\n",
      "p_re_lu_2 (PReLU)            (None, 48, 6, 40)         40        \n",
      "_________________________________________________________________\n",
      "batch_normalization_2 (Batch (None, 48, 6, 40)         160       \n",
      "_________________________________________________________________\n",
      "conv2d_3 (Conv2D)            (None, 48, 6, 48)         17328     \n",
      "_________________________________________________________________\n",
      "p_re_lu_3 (PReLU)            (None, 48, 6, 48)         48        \n",
      "_________________________________________________________________\n",
      "batch_normalization_3 (Batch (None, 48, 6, 48)         192       \n",
      "_________________________________________________________________\n",
      "conv2d_4 (Conv2D)            (None, 24, 2, 56)         21560     \n",
      "_________________________________________________________________\n",
      "p_re_lu_4 (PReLU)            (None, 24, 2, 56)         56        \n",
      "_________________________________________________________________\n",
      "batch_normalization_4 (Batch (None, 24, 2, 56)         224       \n",
      "_________________________________________________________________\n",
      "conv2d_5 (Conv2D)            (None, 24, 2, 64)         32320     \n",
      "_________________________________________________________________\n",
      "p_re_lu_5 (PReLU)            (None, 24, 2, 64)         64        \n",
      "_________________________________________________________________\n",
      "batch_normalization_5 (Batch (None, 24, 2, 64)         256       \n",
      "_________________________________________________________________\n",
      "max_pooling2d (MaxPooling2D) (None, 24, 1, 64)         0         \n",
      "_________________________________________________________________\n",
      "reshape (Reshape)            (None, 24, 64)            0         \n",
      "_________________________________________________________________\n",
      "bidirectional (Bidirectional (None, 24, 128)           49920     \n",
      "_________________________________________________________________\n",
      "dense (Dense)                (None, 24, 128)           16512     \n",
      "_________________________________________________________________\n",
      "bidirectional_1 (Bidirection (None, 24, 128)           74496     \n",
      "_________________________________________________________________\n",
      "dense_1 (Dense)              (None, 24, 119)           15351     \n",
      "_________________________________________________________________\n",
      "activation (Activation)      (None, 24, 119)           0         \n",
      "=================================================================\n",
      "Total params: 243,847\n",
      "Trainable params: 243,335\n",
      "Non-trainable params: 512\n",
      "_________________________________________________________________\n"
     ]
    }
   ],
   "source": [
    "# baseline, 75% input size\n",
    "# net.model.summary()"
   ]
  },
  {
   "cell_type": "markdown",
   "metadata": {},
   "source": [
    "#### or import a trained one!"
   ]
  },
  {
   "cell_type": "code",
   "execution_count": 8,
   "metadata": {},
   "outputs": [],
   "source": [
    "train_logdir = \"training_logs\"\n",
    "trained_model_dir = \"trained_models\"\n",
    "trained_model_name = \"_\".join([\"octave\", \"iam\", \"55e\", \"spanish\", \"size75\"])"
   ]
  },
  {
   "cell_type": "code",
   "execution_count": 11,
   "metadata": {},
   "outputs": [],
   "source": [
    "os.makedirs(train_logdir, exist_ok=True)\n",
    "\n",
    "net = RecognitionNet.load_model(f\"./{trained_model_dir}/{trained_model_name}\", (*TARGET_SIZE, 1))"
   ]
  },
  {
   "cell_type": "markdown",
   "metadata": {},
   "source": [
    "### Data Augmentation"
   ]
  },
  {
   "cell_type": "code",
   "execution_count": 26,
   "metadata": {},
   "outputs": [],
   "source": [
    "BATCH_SIZE = 64\n",
    "\n",
    "train_opts = dict(width_shift_range=0.2, height_shift_range=0.2, zoom_range=0.2, shear_range=0.2)\n",
    "\n",
    "train_gen, test_gen, valid_gen = DataGen(train_set, test_set, valid_set, train_opts).from_tuple(BATCH_SIZE)"
   ]
  },
  {
   "cell_type": "code",
   "execution_count": 8,
   "metadata": {},
   "outputs": [],
   "source": [
    "import gc\n",
    "\n",
    "_ = gc.collect()"
   ]
  },
  {
   "cell_type": "markdown",
   "metadata": {},
   "source": [
    "### Train the model"
   ]
  },
  {
   "cell_type": "code",
   "execution_count": 14,
   "metadata": {},
   "outputs": [],
   "source": [
    "train_gen.reset()\n",
    "valid_gen.reset()"
   ]
  },
  {
   "cell_type": "markdown",
   "metadata": {},
   "source": [
    "---\n",
    "\n",
    "#### Freeze the CNN and RNN layers (only if fine-tuning)"
   ]
  },
  {
   "cell_type": "code",
   "execution_count": 18,
   "metadata": {},
   "outputs": [
    {
     "name": "stdout",
     "output_type": "stream",
     "text": [
      "[[False, 'dense_2'], [False, 'bidirectional_3'], [True, 'dense_3'], [True, 'activation_1']]\n"
     ]
    }
   ],
   "source": [
    "for layer in net.model.layers[:-2]:\n",
    "    layer.trainable = False\n",
    "    \n",
    "print([[layer.trainable, layer.name] for layer in net.model.layers[-4:]])"
   ]
  },
  {
   "cell_type": "markdown",
   "metadata": {},
   "source": [
    "---"
   ]
  },
  {
   "cell_type": "code",
   "execution_count": 41,
   "metadata": {},
   "outputs": [
    {
     "name": "stdout",
     "output_type": "stream",
     "text": [
      "Train steps:  6\n",
      "Validation steps:  3\n"
     ]
    }
   ],
   "source": [
    "TRAIN_STEPS = (train_gen.n * 1) // BATCH_SIZE\n",
    "VALID_STEPS = (valid_gen.n * 5) // BATCH_SIZE\n",
    "\n",
    "print(\"Train steps: \", TRAIN_STEPS)\n",
    "print(\"Validation steps: \", VALID_STEPS)"
   ]
  },
  {
   "cell_type": "code",
   "execution_count": 45,
   "metadata": {},
   "outputs": [
    {
     "name": "stdout",
     "output_type": "stream",
     "text": [
      "Epoch 1/40\n",
      "6/6 [==============================] - 1s 87ms/step - loss: 2.3078 - val_loss: 7.8931 - lr: 0.0010\n",
      "Epoch 2/40\n",
      "6/6 [==============================] - 1s 87ms/step - loss: 2.2007 - val_loss: 12.2402 - lr: 0.0010\n",
      "Epoch 3/40\n",
      "6/6 [==============================] - 0s 79ms/step - loss: 2.0498 - val_loss: 14.3918 - lr: 0.0010\n",
      "Epoch 4/40\n",
      "6/6 [==============================] - 0s 81ms/step - loss: 2.0063 - val_loss: 11.4681 - lr: 0.0010\n",
      "Epoch 5/40\n",
      "6/6 [==============================] - 0s 81ms/step - loss: 2.1874 - val_loss: 12.6883 - lr: 0.0010\n",
      "Epoch 6/40\n",
      "6/6 [==============================] - 0s 82ms/step - loss: 1.9503 - val_loss: 12.6023 - lr: 0.0010\n",
      "CPU times: user 6.02 s, sys: 294 ms, total: 6.31 s\n",
      "Wall time: 3.5 s\n"
     ]
    }
   ],
   "source": [
    "%%time\n",
    "\n",
    "EPOCHS = 40\n",
    "\n",
    "training_results = net.model.fit(\n",
    "    train_gen,\n",
    "    steps_per_epoch=TRAIN_STEPS,\n",
    "    validation_data=valid_gen,\n",
    "    validation_steps=VALID_STEPS,\n",
    "    epochs=EPOCHS,\n",
    "    callbacks=net.callbacks,\n",
    "    verbose=1\n",
    ")"
   ]
  },
  {
   "cell_type": "markdown",
   "metadata": {},
   "source": [
    "---\n",
    "\n",
    "#### Unfreeze the CNN and RNN layers (only if fine-tuning)"
   ]
  },
  {
   "cell_type": "code",
   "execution_count": 14,
   "metadata": {},
   "outputs": [
    {
     "name": "stdout",
     "output_type": "stream",
     "text": [
      "[[True, 'dense_2'], [True, 'bidirectional_3'], [True, 'dense_3'], [True, 'activation_1']]\n"
     ]
    }
   ],
   "source": [
    "print([[layer.trainable, layer.name] for layer in net.model.layers[-4:]])"
   ]
  },
  {
   "cell_type": "code",
   "execution_count": 18,
   "metadata": {},
   "outputs": [
    {
     "name": "stdout",
     "output_type": "stream",
     "text": [
      "[[False, 'dense_2'], [False, 'bidirectional_3'], [True, 'dense_3'], [True, 'activation_1']]\n"
     ]
    }
   ],
   "source": [
    "for layer in net.model.layers:\n",
    "    layer.trainable = True\n",
    "    \n",
    "print([[layer.trainable, layer.name] for layer in net.model.layers[-4:]])"
   ]
  },
  {
   "cell_type": "markdown",
   "metadata": {},
   "source": [
    "---"
   ]
  },
  {
   "cell_type": "markdown",
   "metadata": {},
   "source": [
    "#### Check the statistics"
   ]
  },
  {
   "cell_type": "code",
   "execution_count": 46,
   "metadata": {},
   "outputs": [
    {
     "data": {
      "image/png": "[encoded data removed]",
      "text/plain": [
       "<Figure size 576x576 with 4 Axes>"
      ]
     },
     "metadata": {
      "needs_background": "light"
     },
     "output_type": "display_data"
    }
   ],
   "source": [
    "_, axes = plt.subplots(2,2, figsize=(8,8))\n",
    "axes = axes.flatten()\n",
    "\n",
    "axes[0].plot(training_results.history[\"loss\"])\n",
    "axes[0].set_title(\"Training loss\")\n",
    "\n",
    "axes[1].plot(training_results.history[\"lr\"])\n",
    "axes[1].set_title(\"Learning rate\")\n",
    "\n",
    "axes[2].plot(training_results.history[\"val_loss\"])\n",
    "axes[2].set_title(\"Validation loss\")\n",
    "\n",
    "plt.show()"
   ]
  },
  {
   "cell_type": "markdown",
   "metadata": {},
   "source": [
    "#### Compute the WER and CER"
   ]
  },
  {
   "cell_type": "code",
   "execution_count": 29,
   "metadata": {
    "scrolled": true
   },
   "outputs": [
    {
     "name": "stdout",
     "output_type": "stream",
     "text": [
      "Model Predict\n",
      "1/1 [==============================] - 0s 2ms/step\n",
      "CTC Decode\n"
     ]
    },
    {
     "name": "stderr",
     "output_type": "stream",
     "text": [
      "WARNING:tensorflow:From /home/pachacho/miniconda3/envs/deep/lib/python3.6/site-packages/tensorflow/python/keras/backend.py:5871: sparse_to_dense (from tensorflow.python.ops.sparse_ops) is deprecated and will be removed in a future version.\n",
      "Instructions for updating:\n",
      "Create a `tf.sparse.SparseTensor` and use `tf.sparse.to_dense` instead.\n"
     ]
    },
    {
     "name": "stdout",
     "output_type": "stream",
     "text": [
      "1/1 [==============================] - 0s 456ms/step\n",
      "\n",
      "64\n"
     ]
    }
   ],
   "source": [
    "test_gen.reset()\n",
    "\n",
    "predictions, _ = net.predict(\n",
    "    test_gen,\n",
    "    steps=test_gen.n // BATCH_SIZE,\n",
    "    # batch_size=BATCH_SIZE,\n",
    "    verbose=1\n",
    ")\n",
    "\n",
    "print(f\"\\n{len(predictions)}\")\n",
    "\n",
    "# predictions = np.array(predictions)"
   ]
  },
  {
   "cell_type": "code",
   "execution_count": 30,
   "metadata": {},
   "outputs": [
    {
     "data": {
      "text/plain": [
       "array([array([ 45,  72,  62, 100,  72]), array([45, 73, 72, 71]),\n",
       "       array([72])], dtype=object)"
      ]
     },
     "execution_count": 30,
     "metadata": {},
     "output_type": "execute_result"
    }
   ],
   "source": [
    "predictions2 = np.array([np.array(v[0]).flatten() for v in predictions])\n",
    "predictions2[:3]"
   ]
  },
  {
   "cell_type": "code",
   "execution_count": 31,
   "metadata": {},
   "outputs": [],
   "source": [
    "vectorizer = StringVectorizer()\n",
    "\n",
    "true_labels = [vectorizer.decode(encoded_vector) for encoded_vector in test_gen.y]\n",
    "pred_labels = [vectorizer.decode(encoded_vector) for encoded_vector in predictions2]"
   ]
  },
  {
   "cell_type": "code",
   "execution_count": 32,
   "metadata": {},
   "outputs": [
    {
     "data": {
      "text/plain": [
       "0.990990990990991"
      ]
     },
     "execution_count": 32,
     "metadata": {},
     "output_type": "execute_result"
    }
   ],
   "source": [
    "RecognitionNet.compute_cer(true_labels, pred_labels) # the closer to 1.0, the worse"
   ]
  },
  {
   "cell_type": "code",
   "execution_count": 33,
   "metadata": {},
   "outputs": [
    {
     "name": "stdout",
     "output_type": "stream",
     "text": [
      "6.921875\n"
     ]
    }
   ],
   "source": [
    "wer_results = [RecognitionNet.compute_wer(t, p) for t, p in zip(true_labels, pred_labels)]\n",
    "\n",
    "print(np.mean(wer_results))\n",
    "# the closer to 0.0, the better"
   ]
  },
  {
   "cell_type": "code",
   "execution_count": 34,
   "metadata": {},
   "outputs": [],
   "source": [
    "import gc\n",
    "\n",
    "# del train_set, valid_set, train_gen, valid_gen\n",
    "\n",
    "_ = gc.collect()"
   ]
  },
  {
   "cell_type": "markdown",
   "metadata": {},
   "source": [
    "#### Evaluate the test dataset"
   ]
  },
  {
   "cell_type": "code",
   "execution_count": 35,
   "metadata": {},
   "outputs": [
    {
     "name": "stdout",
     "output_type": "stream",
     "text": [
      "1/1 [==============================] - 0s 1ms/step - loss: 13.5585\n"
     ]
    },
    {
     "data": {
      "text/plain": [
       "13.55845832824707"
      ]
     },
     "execution_count": 35,
     "metadata": {},
     "output_type": "execute_result"
    }
   ],
   "source": [
    "test_gen.reset()\n",
    "\n",
    "net.model.evaluate(\n",
    "    test_gen,\n",
    "    steps=test_gen.n // BATCH_SIZE,\n",
    "    batch_size=BATCH_SIZE,\n",
    "    verbose=1\n",
    ")"
   ]
  },
  {
   "cell_type": "markdown",
   "metadata": {},
   "source": [
    "#### Test a network prediction"
   ]
  },
  {
   "cell_type": "code",
   "execution_count": 47,
   "metadata": {},
   "outputs": [],
   "source": [
    "test_gen.reset()\n",
    "test_batch = test_gen.next()"
   ]
  },
  {
   "cell_type": "code",
   "execution_count": 73,
   "metadata": {},
   "outputs": [
    {
     "name": "stdout",
     "output_type": "stream",
     "text": [
      "(64, 192, 48, 1) (64, 34)\n",
      "distintos\n"
     ]
    },
    {
     "data": {
      "image/png": "[encoded data removed]",
      "text/plain": [
       "<Figure size 432x288 with 1 Axes>"
      ]
     },
     "metadata": {
      "needs_background": "light"
     },
     "output_type": "display_data"
    }
   ],
   "source": [
    "from keras.preprocessing.image import load_img, img_to_array\n",
    "\n",
    "vectorizer = StringVectorizer()\n",
    "\n",
    "print(test_batch[0].shape, test_batch[1].shape)\n",
    "\n",
    "sample_idx = np.random.randint(BATCH_SIZE)\n",
    "\n",
    "test_vector = test_batch[1][sample_idx, :]\n",
    "print(vectorizer.decode(test_vector))\n",
    "\n",
    "test_image = test_batch[0][sample_idx,:,:,0]\n",
    "plt.imshow(test_image.transpose(), cmap=\"gray\")\n",
    "plt.axis(\"off\")\n",
    "plt.show()"
   ]
  },
  {
   "cell_type": "code",
   "execution_count": 74,
   "metadata": {
    "scrolled": true
   },
   "outputs": [
    {
     "name": "stdout",
     "output_type": "stream",
     "text": [
      "CPU times: user 37.5 ms, sys: 3.45 ms, total: 40.9 ms\n",
      "Wall time: 36.2 ms\n"
     ]
    }
   ],
   "source": [
    "test_image_pred = np.expand_dims(test_image, axis=[0,-1])\n",
    "\n",
    "%time preds, probs = net.predict(test_image_pred)"
   ]
  },
  {
   "cell_type": "code",
   "execution_count": 75,
   "metadata": {},
   "outputs": [
    {
     "name": "stdout",
     "output_type": "stream",
     "text": [
      "distintos\n"
     ]
    }
   ],
   "source": [
    "vector = list(preds[0][0])\n",
    "\n",
    "predicted_text = vectorizer.decode(vector)\n",
    "\n",
    "print(predicted_text)"
   ]
  },
  {
   "cell_type": "markdown",
   "metadata": {},
   "source": [
    "### (Optional) Post-training quantization\n",
    "\n",
    "**IMPORTANT** Save the model first (see below!)"
   ]
  },
  {
   "cell_type": "code",
   "execution_count": 9,
   "metadata": {},
   "outputs": [],
   "source": [
    "# !export PATH=$PATH:/home/pachacho/miniconda3/envs/deep/bin/toco_from_protos\n",
    "\n",
    "def quantize_model(from_keras=None, from_saved_model=None, try_shrinking=False):\n",
    "    if from_keras is not None:\n",
    "        converter: tf.lite.TFLiteConverter = tf.lite.TFLiteConverter.from_keras_model(from_keras)\n",
    "    elif from_saved_model is not None:\n",
    "        converter: tf.lite.TFLiteConverter = tf.lite.TFLiteConverter.from_saved_model(from_saved_model)\n",
    "    else:\n",
    "        raise Exception(\"Parameters: \", from_keras, from_saved_model)\n",
    "        \n",
    "    converter.allow_custom_ops = True\n",
    "    converter.experimental_new_converter = True\n",
    "    converter.experimental_new_quantizer = True\n",
    "    converter.optimizations = [tf.lite.Optimize.OPTIMIZE_FOR_SIZE]\n",
    "    \n",
    "    if try_shrinking:\n",
    "        converter.target_spec.supported_ops = [tf.lite.OpsSet.TFLITE_BUILTINS_INT8]\n",
    "    else:\n",
    "        converter.target_spec.supported_ops = [tf.lite.OpsSet.TFLITE_BUILTINS]\n",
    "        \n",
    "    converter.target_spec.supported_ops += [tf.lite.OpsSet.SELECT_TF_OPS]\n",
    "    converter.target_spec.supported_types = [tf.float16] #  [tf.uint8]\n",
    "    \n",
    "    return converter.convert()\n"
   ]
  },
  {
   "cell_type": "code",
   "execution_count": 12,
   "metadata": {},
   "outputs": [
    {
     "name": "stderr",
     "output_type": "stream",
     "text": [
      "WARNING:tensorflow:From /home/pachacho/miniconda3/envs/deep/lib/python3.6/site-packages/tensorflow/python/training/tracking/tracking.py:111: Model.state_updates (from tensorflow.python.keras.engine.training) is deprecated and will be removed in a future version.\n",
      "Instructions for updating:\n",
      "This property should not be used in TensorFlow 2.0, as updates are applied automatically.\n",
      "WARNING:tensorflow:From /home/pachacho/miniconda3/envs/deep/lib/python3.6/site-packages/tensorflow/python/training/tracking/tracking.py:111: Layer.updates (from tensorflow.python.keras.engine.base_layer) is deprecated and will be removed in a future version.\n",
      "Instructions for updating:\n",
      "This property should not be used in TensorFlow 2.0, as updates are applied automatically.\n",
      "INFO:tensorflow:Assets written to: /tmp/tmplhr3l5e8/assets\n"
     ]
    },
    {
     "data": {
      "text/plain": [
       "bytes"
      ]
     },
     "execution_count": 12,
     "metadata": {},
     "output_type": "execute_result"
    }
   ],
   "source": [
    "quant8_model = quantize_model(from_keras=net.model, try_shrinking=False)\n",
    "# quant8_model = quantize_model(from_saved_model=f\"./{trained_model_dir}/{trained_model_name}\", try_shrinking=False)\n",
    "\n",
    "type(quant8_model)"
   ]
  },
  {
   "cell_type": "code",
   "execution_count": 13,
   "metadata": {},
   "outputs": [],
   "source": [
    "trained_model_dir = \"trained_models\"\n",
    "trained_model_name = \"_\".join([\"octave\", \"iam\", \"55e\", \"spanish\", \"size75\", \"8bits\", \"experimental_converter\"])\n",
    "\n",
    "with open(f\"./{trained_model_dir}/{trained_model_name}.tflite\", \"wb\") as f:\n",
    "    f.write(quant8_model)"
   ]
  },
  {
   "cell_type": "markdown",
   "metadata": {},
   "source": [
    "---\n",
    "\n",
    "#### Prediction with the quantized model"
   ]
  },
  {
   "cell_type": "code",
   "execution_count": 22,
   "metadata": {},
   "outputs": [],
   "source": [
    "trained_model_name = \"_\".join([\"octave\", \"iam\", \"55e\", \"spanish\", \"size75\", \"8bits\"])"
   ]
  },
  {
   "cell_type": "code",
   "execution_count": 27,
   "metadata": {},
   "outputs": [],
   "source": [
    "# Load TFLite model and allocate tensors.\n",
    "\n",
    "# from binary model\n",
    "with open(f\"./{trained_model_dir}/{trained_model_name}.tflite\", \"rb\") as f:\n",
    "    bin_model = f.read()\n",
    "    interpreter = tf.lite.Interpreter(model_content=bin_model)\n"
   ]
  },
  {
   "cell_type": "code",
   "execution_count": null,
   "metadata": {},
   "outputs": [],
   "source": [
    "# from file\n",
    "interpreter = tf.lite.Interpreter(model_path=f\"./{trained_model_dir}/{trained_model_name}.tflite\")"
   ]
  },
  {
   "cell_type": "code",
   "execution_count": 37,
   "metadata": {},
   "outputs": [
    {
     "ename": "NameError",
     "evalue": "name 'z' is not defined",
     "output_type": "error",
     "traceback": [
      "\u001b[0;31m---------------------------------------------------------------------------\u001b[0m",
      "\u001b[0;31mNameError\u001b[0m                                 Traceback (most recent call last)",
      "\u001b[0;32m<ipython-input-37-2dd6b8df86e5>\u001b[0m in \u001b[0;36m<module>\u001b[0;34m\u001b[0m\n\u001b[1;32m      1\u001b[0m \u001b[0mtensor_index\u001b[0m \u001b[0;34m=\u001b[0m \u001b[0minterpreter\u001b[0m\u001b[0;34m.\u001b[0m\u001b[0mget_input_details\u001b[0m\u001b[0;34m(\u001b[0m\u001b[0;34m)\u001b[0m\u001b[0;34m[\u001b[0m\u001b[0;36m0\u001b[0m\u001b[0;34m]\u001b[0m\u001b[0;34m[\u001b[0m\u001b[0;34m'index'\u001b[0m\u001b[0;34m]\u001b[0m\u001b[0;34m\u001b[0m\u001b[0;34m\u001b[0m\u001b[0m\n\u001b[0;32m----> 2\u001b[0;31m \u001b[0minput_tensor_z\u001b[0m \u001b[0;34m=\u001b[0m \u001b[0mtf\u001b[0m\u001b[0;34m.\u001b[0m\u001b[0mconvert_to_tensor\u001b[0m\u001b[0;34m(\u001b[0m\u001b[0mz\u001b[0m\u001b[0;34m,\u001b[0m \u001b[0mnp\u001b[0m\u001b[0;34m.\u001b[0m\u001b[0mfloat32\u001b[0m\u001b[0;34m)\u001b[0m\u001b[0;34m\u001b[0m\u001b[0;34m\u001b[0m\u001b[0m\n\u001b[0m\u001b[1;32m      3\u001b[0m \u001b[0minterpreter\u001b[0m\u001b[0;34m.\u001b[0m\u001b[0mset_tensor\u001b[0m\u001b[0;34m(\u001b[0m\u001b[0mtensor_index\u001b[0m\u001b[0;34m,\u001b[0m \u001b[0minput_tensor_z\u001b[0m\u001b[0;34m)\u001b[0m\u001b[0;34m\u001b[0m\u001b[0;34m\u001b[0m\u001b[0m\n",
      "\u001b[0;31mNameError\u001b[0m: name 'z' is not defined"
     ]
    }
   ],
   "source": [
    "tensor_index = interpreter.get_input_details()[0]['index']\n",
    "input_tensor_z = tf.convert_to_tensor(z, np.float32)\n",
    "interpreter.set_tensor(tensor_index, input_tensor_z)"
   ]
  },
  {
   "cell_type": "code",
   "execution_count": 35,
   "metadata": {},
   "outputs": [
    {
     "ename": "RuntimeError",
     "evalue": "Encountered unresolved custom op: TensorListFromTensor.Node number 34 (TensorListFromTensor) failed to prepare.\nEncountered unresolved custom op: TensorListFromTensor.Node number 34 (TensorListFromTensor) failed to prepare.\n",
     "output_type": "error",
     "traceback": [
      "\u001b[0;31m---------------------------------------------------------------------------\u001b[0m",
      "\u001b[0;31mRuntimeError\u001b[0m                              Traceback (most recent call last)",
      "\u001b[0;32m<ipython-input-35-e8f284b41149>\u001b[0m in \u001b[0;36m<module>\u001b[0;34m\u001b[0m\n\u001b[0;32m----> 1\u001b[0;31m \u001b[0minterpreter\u001b[0m\u001b[0;34m.\u001b[0m\u001b[0mallocate_tensors\u001b[0m\u001b[0;34m(\u001b[0m\u001b[0;34m)\u001b[0m\u001b[0;34m\u001b[0m\u001b[0;34m\u001b[0m\u001b[0m\n\u001b[0m",
      "\u001b[0;32m~/miniconda3/envs/deep/lib/python3.6/site-packages/tensorflow/lite/python/interpreter.py\u001b[0m in \u001b[0;36mallocate_tensors\u001b[0;34m(self)\u001b[0m\n\u001b[1;32m    241\u001b[0m   \u001b[0;32mdef\u001b[0m \u001b[0mallocate_tensors\u001b[0m\u001b[0;34m(\u001b[0m\u001b[0mself\u001b[0m\u001b[0;34m)\u001b[0m\u001b[0;34m:\u001b[0m\u001b[0;34m\u001b[0m\u001b[0;34m\u001b[0m\u001b[0m\n\u001b[1;32m    242\u001b[0m     \u001b[0mself\u001b[0m\u001b[0;34m.\u001b[0m\u001b[0m_ensure_safe\u001b[0m\u001b[0;34m(\u001b[0m\u001b[0;34m)\u001b[0m\u001b[0;34m\u001b[0m\u001b[0;34m\u001b[0m\u001b[0m\n\u001b[0;32m--> 243\u001b[0;31m     \u001b[0;32mreturn\u001b[0m \u001b[0mself\u001b[0m\u001b[0;34m.\u001b[0m\u001b[0m_interpreter\u001b[0m\u001b[0;34m.\u001b[0m\u001b[0mAllocateTensors\u001b[0m\u001b[0;34m(\u001b[0m\u001b[0;34m)\u001b[0m\u001b[0;34m\u001b[0m\u001b[0;34m\u001b[0m\u001b[0m\n\u001b[0m\u001b[1;32m    244\u001b[0m \u001b[0;34m\u001b[0m\u001b[0m\n\u001b[1;32m    245\u001b[0m   \u001b[0;32mdef\u001b[0m \u001b[0m_safe_to_run\u001b[0m\u001b[0;34m(\u001b[0m\u001b[0mself\u001b[0m\u001b[0;34m)\u001b[0m\u001b[0;34m:\u001b[0m\u001b[0;34m\u001b[0m\u001b[0;34m\u001b[0m\u001b[0m\n",
      "\u001b[0;31mRuntimeError\u001b[0m: Encountered unresolved custom op: TensorListFromTensor.Node number 34 (TensorListFromTensor) failed to prepare.\nEncountered unresolved custom op: TensorListFromTensor.Node number 34 (TensorListFromTensor) failed to prepare.\n"
     ]
    }
   ],
   "source": [
    "interpreter.allocate_tensors()"
   ]
  },
  {
   "cell_type": "code",
   "execution_count": 34,
   "metadata": {},
   "outputs": [
    {
     "name": "stdout",
     "output_type": "stream",
     "text": [
      "[{'name': 'input', 'index': 17, 'shape': array([  1, 192,  48,   1], dtype=int32), 'shape_signature': array([  1, 192,  48,   1], dtype=int32), 'dtype': <class 'numpy.float32'>, 'quantization': (0.0, 0), 'quantization_parameters': {'scales': array([], dtype=float32), 'zero_points': array([], dtype=int32), 'quantized_dimension': 0}, 'sparsity_parameters': {}}] \n",
      "\n",
      " [{'name': 'Identity', 'index': 16, 'shape': array([], dtype=int32), 'shape_signature': array([], dtype=int32), 'dtype': <class 'numpy.float32'>, 'quantization': (0.0, 0), 'quantization_parameters': {'scales': array([], dtype=float32), 'zero_points': array([], dtype=int32), 'quantized_dimension': 0}, 'sparsity_parameters': {}}]\n"
     ]
    }
   ],
   "source": [
    "# Get input and output tensors.\n",
    "input_details = interpreter.get_input_details()\n",
    "output_details = interpreter.get_output_details()\n",
    "\n",
    "print(input_details, \"\\n\\n\", output_details)"
   ]
  },
  {
   "cell_type": "code",
   "execution_count": null,
   "metadata": {},
   "outputs": [],
   "source": [
    "\n",
    "# Get input and output tensors.\n",
    "input_details = interpreter.get_input_details()\n",
    "output_details = interpreter.get_output_details()\n",
    "\n",
    "# Test model on random input data.\n",
    "input_shape = input_details[0]['shape']\n",
    "input_data = np.array(np.random.random_sample(input_shape), dtype=np.float32)\n",
    "interpreter.set_tensor(input_details[0]['index'], input_data)\n",
    "\n",
    "interpreter.invoke()\n",
    "\n",
    "# The function `get_tensor()` returns a copy of the tensor data.\n",
    "# Use `tensor()` in order to get a pointer to the tensor.\n",
    "output_data = interpreter.get_tensor(output_details[0]['index'])\n",
    "print(output_data)"
   ]
  },
  {
   "cell_type": "markdown",
   "metadata": {},
   "source": [
    "---"
   ]
  },
  {
   "cell_type": "markdown",
   "metadata": {},
   "source": [
    "### Save the trained model to `protobuf` (portable) format"
   ]
  },
  {
   "cell_type": "code",
   "execution_count": 60,
   "metadata": {},
   "outputs": [
    {
     "name": "stderr",
     "output_type": "stream",
     "text": [
      "WARNING:tensorflow:From /home/pachacho/miniconda3/envs/deep/lib/python3.6/site-packages/tensorflow/python/ops/resource_variable_ops.py:1817: calling BaseResourceVariable.__init__ (from tensorflow.python.ops.resource_variable_ops) with constraint is deprecated and will be removed in a future version.\n",
      "Instructions for updating:\n",
      "If using Keras pass *_constraint arguments to layers.\n",
      "INFO:tensorflow:Assets written to: ./trained_models/octave_iam_55e_spanish_size75/assets\n"
     ]
    },
    {
     "data": {
      "text/plain": [
       "'/home/pachacho/Documents/text-processing/playground/trained_models/octave_iam_55e_spanish_size75.zip'"
      ]
     },
     "execution_count": 60,
     "metadata": {},
     "output_type": "execute_result"
    }
   ],
   "source": [
    "trained_model_dir = \"trained_models\"\n",
    "trained_model_name = \"_\".join([\"octave\", \"iam\", \"55e\", \"spanish\", \"size75\"])\n",
    "\n",
    "os.makedirs(trained_model_dir, exist_ok=True)\n",
    "\n",
    "net.model.save(f\"./{trained_model_dir}/{trained_model_name}\")\n",
    "make_archive(\n",
    "    f\"./{trained_model_dir}/{trained_model_name}\",\n",
    "    \"zip\",\n",
    "    f\"./{trained_model_dir}/{trained_model_name}/\"\n",
    ")"
   ]
  },
  {
   "cell_type": "markdown",
   "metadata": {},
   "source": [
    "#### End"
   ]
  },
  {
   "cell_type": "code",
   "execution_count": null,
   "metadata": {},
   "outputs": [],
   "source": [
    "# remove the temporal directory in the end\n",
    "if save_to_disk:\n",
    "    rm_dir(dataset_dest_dir)"
   ]
  }
 ],
 "metadata": {
  "kernelspec": {
   "display_name": "deep",
   "language": "python",
   "name": "deep"
  },
  "language_info": {
   "codemirror_mode": {
    "name": "ipython",
    "version": 3
   },
   "file_extension": ".py",
   "mimetype": "text/x-python",
   "name": "python",
   "nbconvert_exporter": "python",
   "pygments_lexer": "ipython3",
   "version": "3.6.10"
  }
 },
 "nbformat": 4,
 "nbformat_minor": 4
}
