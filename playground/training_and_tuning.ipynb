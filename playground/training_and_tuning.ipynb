{
 "cells": [
  {
   "cell_type": "markdown",
   "metadata": {},
   "source": [
    "# Text Recognition Model: Training and Tuning\n",
    "\n",
    "> NOTE: This sample notebook has been executed in a laptop without a GPU, hence the bad results."
   ]
  },
  {
   "cell_type": "code",
   "execution_count": null,
   "metadata": {},
   "outputs": [],
   "source": [
    "# pip install googledrivedownloader"
   ]
  },
  {
   "cell_type": "code",
   "execution_count": 1,
   "metadata": {},
   "outputs": [],
   "source": [
    "from tfgpkg.recognition import DataUnpack, DataGen\n",
    "from tfgpkg.recognition.word import StringVectorizer, RecognitionNet, Arch\n",
    "from tfgpkg.recognition.datagen import DataGen\n",
    "from tensorflow import keras\n",
    "\n",
    "from google_drive_downloader import GoogleDriveDownloader as gdd\n",
    "from shutil import make_archive, rmtree as rm_dir\n",
    "from tempfile import TemporaryDirectory\n",
    "\n",
    "import matplotlib.pyplot as plt\n",
    "import tensorflow as tf\n",
    "import pandas as pd\n",
    "import numpy as np\n",
    "import h5py as h5\n",
    "import cv2\n",
    "import os"
   ]
  },
  {
   "cell_type": "code",
   "execution_count": 3,
   "metadata": {},
   "outputs": [
    {
     "data": {
      "text/plain": [
       "'2.2.0'"
      ]
     },
     "execution_count": 3,
     "metadata": {},
     "output_type": "execute_result"
    }
   ],
   "source": [
    "tf.__version__"
   ]
  },
  {
   "cell_type": "markdown",
   "metadata": {},
   "source": [
    "### Data Download (just once)"
   ]
  },
  {
   "cell_type": "code",
   "execution_count": 2,
   "metadata": {},
   "outputs": [],
   "source": [
    "dataset_dest_dir = \"datasets\"\n",
    "os.makedirs(dataset_dest_dir, exist_ok=True)"
   ]
  },
  {
   "cell_type": "code",
   "execution_count": null,
   "metadata": {},
   "outputs": [],
   "source": [
    "drive_ids = {\n",
    "    \"spanish\": \"1Xt_Mq-Alg0yptfKgoxXoD-O0-Iyj5-2s\",\n",
    "    \"iam\": \"11pUW60azvr722I7LaKS9s2pzwm_Con6V\",\n",
    "    \"rimes\": \"1wb4CEHOV0JSIt2VaqXhGUeHfV5wzbHlg\"\n",
    "}\n",
    "url_format = \"https://drive.google.com/uc?id={}\"\n",
    "\n",
    "# gdd.download_file_from_google_drive(drive_ids[\"spanish\"], dest_path=f\"./{dataset_dest_dir}/spanish.h5\")\n",
    "# gdd.download_file_from_google_drive(drive_ids[\"iam\"], dest_path=f\"./{dataset_dest_dir}/iam.h5\")\n",
    "# gdd.download_file_from_google_drive(drive_ids[\"rimes\"], dest_path=f\"./{dataset_dest_dir}/rimes.h5\")"
   ]
  },
  {
   "cell_type": "code",
   "execution_count": 8,
   "metadata": {},
   "outputs": [
    {
     "name": "stdout",
     "output_type": "stream",
     "text": [
      "4.0\n"
     ]
    }
   ],
   "source": [
    "MAX_WORD_LENGTH = 34  # 24\n",
    "\n",
    "width, height = TARGET_SIZE = {\n",
    "    \"vsmall\": (64, 16), # .25\n",
    "    \"small\": (128, 32), # .50\n",
    "    \"medium\": (192, 48), # .75\n",
    "    \"original\": (256, 64)\n",
    "}[\"medium\"]\n",
    "\n",
    "IMAGE_RATIO = width / height\n",
    "print(IMAGE_RATIO)"
   ]
  },
  {
   "cell_type": "markdown",
   "metadata": {},
   "source": [
    "### Data and Model Loading"
   ]
  },
  {
   "cell_type": "code",
   "execution_count": null,
   "metadata": {},
   "outputs": [],
   "source": [
    "%%time\n",
    "\n",
    "unzip_dataset_dest_dir = TemporaryDirectory(prefix=\"htr_\").name\n",
    "save_to_disk = False\n",
    "\n",
    "# train_spa, test_spa, valid_spa \n",
    "# train_rimes, test_rimes, valid_rimes\n",
    "# train_iam, test_iam, valid_iam\n",
    "\n",
    "# train_set, test_set, valid_set\n",
    "\n",
    "train_set, test_set, valid_set = DataUnpack.unpack(\n",
    "    f\"{dataset_dest_dir}/iam.h5\",\n",
    "    dest_dir=unzip_dataset_dest_dir,\n",
    "    color=False,\n",
    "    save_to_disk=save_to_disk,  # if the dataset is quite big or not enough ram\n",
    "    target_size=TARGET_SIZE,\n",
    "    aspect_ratio=IMAGE_RATIO\n",
    ")\n",
    "\n",
    "if save_to_disk:\n",
    "    print(f\"Unpacking dataset to {unzip_dataset_dest_dir}\")"
   ]
  },
  {
   "cell_type": "code",
   "execution_count": 5,
   "metadata": {
    "scrolled": true
   },
   "outputs": [
    {
     "name": "stdout",
     "output_type": "stream",
     "text": [
      "(53839, 128, 32, 1) (53839,)\n"
     ]
    }
   ],
   "source": [
    "print(train_set[0].shape, train_set[1].shape)"
   ]
  },
  {
   "cell_type": "markdown",
   "metadata": {},
   "source": [
    "#### Create a new model..."
   ]
  },
  {
   "cell_type": "code",
   "execution_count": null,
   "metadata": {},
   "outputs": [],
   "source": [
    "train_logdir = \"training_logs\"\n",
    "os.makedirs(train_logdir, exist_ok=True)\n",
    "\n",
    "net = RecognitionNet(\n",
    "    logdir=train_logdir,\n",
    "    input_size=(*TARGET_SIZE, 1),\n",
    "    arch=Arch.Depthwise\n",
    "    # charset=RecognitionNet.LATIN_CHAR\n",
    ")"
   ]
  },
  {
   "cell_type": "code",
   "execution_count": null,
   "metadata": {
    "scrolled": true
   },
   "outputs": [],
   "source": [
    "# gated, 75% input size\n",
    "# net.model.summary()"
   ]
  },
  {
   "cell_type": "code",
   "execution_count": null,
   "metadata": {
    "scrolled": true
   },
   "outputs": [],
   "source": [
    "# gated, original input size\n",
    "# net.model.summary()"
   ]
  },
  {
   "cell_type": "code",
   "execution_count": null,
   "metadata": {
    "scrolled": true
   },
   "outputs": [],
   "source": [
    "# depthwise, original input size\n",
    "# net.model.summary()"
   ]
  },
  {
   "cell_type": "code",
   "execution_count": 6,
   "metadata": {
    "scrolled": true
   },
   "outputs": [
    {
     "name": "stdout",
     "output_type": "stream",
     "text": [
      "Model: \"model\"\n",
      "__________________________________________________________________________________________________\n",
      "Layer (type)                    Output Shape         Param #     Connected to                     \n",
      "==================================================================================================\n",
      "input (InputLayer)              [(None, 192, 48, 1)] 0                                            \n",
      "__________________________________________________________________________________________________\n",
      "octave_conv2d (OctaveConv2D)    [(None, 96, 24, 14), 160         input[0][0]                      \n",
      "__________________________________________________________________________________________________\n",
      "batch_normalization_1 (BatchNor (None, 48, 12, 2)    8           octave_conv2d[0][1]              \n",
      "__________________________________________________________________________________________________\n",
      "batch_normalization (BatchNorma (None, 96, 24, 14)   56          octave_conv2d[0][0]              \n",
      "__________________________________________________________________________________________________\n",
      "up_sampling2d (UpSampling2D)    (None, 96, 24, 2)    0           batch_normalization_1[0][0]      \n",
      "__________________________________________________________________________________________________\n",
      "concatenate (Concatenate)       (None, 96, 24, 16)   0           batch_normalization[0][0]        \n",
      "                                                                 up_sampling2d[0][0]              \n",
      "__________________________________________________________________________________________________\n",
      "p_re_lu (PReLU)                 (None, 96, 24, 16)   16          concatenate[0][0]                \n",
      "__________________________________________________________________________________________________\n",
      "octave_conv2d_1 (OctaveConv2D)  [(None, 96, 24, 28), 4640        p_re_lu[0][0]                    \n",
      "__________________________________________________________________________________________________\n",
      "batch_normalization_3 (BatchNor (None, 48, 12, 4)    16          octave_conv2d_1[0][1]            \n",
      "__________________________________________________________________________________________________\n",
      "batch_normalization_2 (BatchNor (None, 96, 24, 28)   112         octave_conv2d_1[0][0]            \n",
      "__________________________________________________________________________________________________\n",
      "up_sampling2d_1 (UpSampling2D)  (None, 96, 24, 4)    0           batch_normalization_3[0][0]      \n",
      "__________________________________________________________________________________________________\n",
      "concatenate_1 (Concatenate)     (None, 96, 24, 32)   0           batch_normalization_2[0][0]      \n",
      "                                                                 up_sampling2d_1[0][0]            \n",
      "__________________________________________________________________________________________________\n",
      "p_re_lu_1 (PReLU)               (None, 96, 24, 32)   32          concatenate_1[0][0]              \n",
      "__________________________________________________________________________________________________\n",
      "octave_conv2d_2 (OctaveConv2D)  [(None, 48, 6, 35),  10280       p_re_lu_1[0][0]                  \n",
      "__________________________________________________________________________________________________\n",
      "batch_normalization_5 (BatchNor (None, 24, 3, 5)     20          octave_conv2d_2[0][1]            \n",
      "__________________________________________________________________________________________________\n",
      "batch_normalization_4 (BatchNor (None, 48, 6, 35)    140         octave_conv2d_2[0][0]            \n",
      "__________________________________________________________________________________________________\n",
      "up_sampling2d_2 (UpSampling2D)  (None, 48, 6, 5)     0           batch_normalization_5[0][0]      \n",
      "__________________________________________________________________________________________________\n",
      "concatenate_2 (Concatenate)     (None, 48, 6, 40)    0           batch_normalization_4[0][0]      \n",
      "                                                                 up_sampling2d_2[0][0]            \n",
      "__________________________________________________________________________________________________\n",
      "p_re_lu_2 (PReLU)               (None, 48, 6, 40)    40          concatenate_2[0][0]              \n",
      "__________________________________________________________________________________________________\n",
      "octave_conv2d_3 (OctaveConv2D)  [(None, 48, 6, 42),  17328       p_re_lu_2[0][0]                  \n",
      "__________________________________________________________________________________________________\n",
      "batch_normalization_7 (BatchNor (None, 24, 3, 6)     24          octave_conv2d_3[0][1]            \n",
      "__________________________________________________________________________________________________\n",
      "batch_normalization_6 (BatchNor (None, 48, 6, 42)    168         octave_conv2d_3[0][0]            \n",
      "__________________________________________________________________________________________________\n",
      "up_sampling2d_3 (UpSampling2D)  (None, 48, 6, 6)     0           batch_normalization_7[0][0]      \n",
      "__________________________________________________________________________________________________\n",
      "concatenate_3 (Concatenate)     (None, 48, 6, 48)    0           batch_normalization_6[0][0]      \n",
      "                                                                 up_sampling2d_3[0][0]            \n",
      "__________________________________________________________________________________________________\n",
      "p_re_lu_3 (PReLU)               (None, 48, 6, 48)    48          concatenate_3[0][0]              \n",
      "__________________________________________________________________________________________________\n",
      "octave_conv2d_4 (OctaveConv2D)  [(None, 48, 6, 56),  27712       p_re_lu_3[0][0]                  \n",
      "__________________________________________________________________________________________________\n",
      "batch_normalization_9 (BatchNor (None, 24, 3, 8)     32          octave_conv2d_4[0][1]            \n",
      "__________________________________________________________________________________________________\n",
      "batch_normalization_8 (BatchNor (None, 48, 6, 56)    224         octave_conv2d_4[0][0]            \n",
      "__________________________________________________________________________________________________\n",
      "up_sampling2d_4 (UpSampling2D)  (None, 48, 6, 8)     0           batch_normalization_9[0][0]      \n",
      "__________________________________________________________________________________________________\n",
      "concatenate_4 (Concatenate)     (None, 48, 6, 64)    0           batch_normalization_8[0][0]      \n",
      "                                                                 up_sampling2d_4[0][0]            \n",
      "__________________________________________________________________________________________________\n",
      "p_re_lu_4 (PReLU)               (None, 48, 6, 64)    64          concatenate_4[0][0]              \n",
      "__________________________________________________________________________________________________\n",
      "max_pooling2d (MaxPooling2D)    (None, 48, 3, 64)    0           p_re_lu_4[0][0]                  \n",
      "__________________________________________________________________________________________________\n",
      "reshape (Reshape)               (None, 48, 192)      0           max_pooling2d[0][0]              \n",
      "__________________________________________________________________________________________________\n",
      "bidirectional (Bidirectional)   (None, 48, 384)      444672      reshape[0][0]                    \n",
      "__________________________________________________________________________________________________\n",
      "dense (Dense)                   (None, 48, 384)      147840      bidirectional[0][0]              \n",
      "__________________________________________________________________________________________________\n",
      "bidirectional_1 (Bidirectional) (None, 48, 384)      665856      dense[0][0]                      \n",
      "__________________________________________________________________________________________________\n",
      "dense_1 (Dense)                 (None, 48, 119)      45815       bidirectional_1[0][0]            \n",
      "__________________________________________________________________________________________________\n",
      "activation (Activation)         (None, 48, 119)      0           dense_1[0][0]                    \n",
      "==================================================================================================\n",
      "Total params: 1,365,303\n",
      "Trainable params: 1,364,903\n",
      "Non-trainable params: 400\n",
      "__________________________________________________________________________________________________\n"
     ]
    }
   ],
   "source": [
    "# octave, 75% input size\n",
    "# net.model.summary()"
   ]
  },
  {
   "cell_type": "code",
   "execution_count": 12,
   "metadata": {
    "scrolled": true
   },
   "outputs": [
    {
     "name": "stdout",
     "output_type": "stream",
     "text": [
      "Model: \"model\"\n",
      "_________________________________________________________________\n",
      "Layer (type)                 Output Shape              Param #   \n",
      "=================================================================\n",
      "input (InputLayer)           [(None, 192, 48, 1)]      0         \n",
      "_________________________________________________________________\n",
      "conv2d (Conv2D)              (None, 96, 24, 16)        160       \n",
      "_________________________________________________________________\n",
      "p_re_lu (PReLU)              (None, 96, 24, 16)        16        \n",
      "_________________________________________________________________\n",
      "batch_normalization (BatchNo (None, 96, 24, 16)        64        \n",
      "_________________________________________________________________\n",
      "conv2d_1 (Conv2D)            (None, 96, 24, 32)        4640      \n",
      "_________________________________________________________________\n",
      "p_re_lu_1 (PReLU)            (None, 96, 24, 32)        32        \n",
      "_________________________________________________________________\n",
      "batch_normalization_1 (Batch (None, 96, 24, 32)        128       \n",
      "_________________________________________________________________\n",
      "conv2d_2 (Conv2D)            (None, 48, 6, 40)         10280     \n",
      "_________________________________________________________________\n",
      "p_re_lu_2 (PReLU)            (None, 48, 6, 40)         40        \n",
      "_________________________________________________________________\n",
      "batch_normalization_2 (Batch (None, 48, 6, 40)         160       \n",
      "_________________________________________________________________\n",
      "conv2d_3 (Conv2D)            (None, 48, 6, 48)         17328     \n",
      "_________________________________________________________________\n",
      "p_re_lu_3 (PReLU)            (None, 48, 6, 48)         48        \n",
      "_________________________________________________________________\n",
      "batch_normalization_3 (Batch (None, 48, 6, 48)         192       \n",
      "_________________________________________________________________\n",
      "conv2d_4 (Conv2D)            (None, 24, 2, 56)         21560     \n",
      "_________________________________________________________________\n",
      "p_re_lu_4 (PReLU)            (None, 24, 2, 56)         56        \n",
      "_________________________________________________________________\n",
      "batch_normalization_4 (Batch (None, 24, 2, 56)         224       \n",
      "_________________________________________________________________\n",
      "conv2d_5 (Conv2D)            (None, 24, 2, 64)         32320     \n",
      "_________________________________________________________________\n",
      "p_re_lu_5 (PReLU)            (None, 24, 2, 64)         64        \n",
      "_________________________________________________________________\n",
      "batch_normalization_5 (Batch (None, 24, 2, 64)         256       \n",
      "_________________________________________________________________\n",
      "max_pooling2d (MaxPooling2D) (None, 24, 1, 64)         0         \n",
      "_________________________________________________________________\n",
      "reshape (Reshape)            (None, 24, 64)            0         \n",
      "_________________________________________________________________\n",
      "bidirectional (Bidirectional (None, 24, 128)           49920     \n",
      "_________________________________________________________________\n",
      "dense (Dense)                (None, 24, 128)           16512     \n",
      "_________________________________________________________________\n",
      "bidirectional_1 (Bidirection (None, 24, 128)           74496     \n",
      "_________________________________________________________________\n",
      "dense_1 (Dense)              (None, 24, 119)           15351     \n",
      "_________________________________________________________________\n",
      "activation (Activation)      (None, 24, 119)           0         \n",
      "=================================================================\n",
      "Total params: 243,847\n",
      "Trainable params: 243,335\n",
      "Non-trainable params: 512\n",
      "_________________________________________________________________\n"
     ]
    }
   ],
   "source": [
    "# baseline, 75% input size\n",
    "# net.model.summary()"
   ]
  },
  {
   "cell_type": "markdown",
   "metadata": {},
   "source": [
    "#### or import a trained one!"
   ]
  },
  {
   "cell_type": "code",
   "execution_count": 11,
   "metadata": {},
   "outputs": [],
   "source": [
    "train_logdir = \"training_logs\"\n",
    "trained_model_dir = \"trained_models\"\n",
    "trained_model_name = \"baseline_iam_small\"\n",
    "\n",
    "\n",
    "os.makedirs(train_logdir, exist_ok=True)\n",
    "\n",
    "net = RecognitionNet.load_chkpt(\"./{trained_model_dir}/{trained_model_name}\")"
   ]
  },
  {
   "cell_type": "markdown",
   "metadata": {},
   "source": [
    "### Data Augmentation"
   ]
  },
  {
   "cell_type": "code",
   "execution_count": 13,
   "metadata": {},
   "outputs": [],
   "source": [
    "BATCH_SIZE = 256\n",
    "\n",
    "train_opts = dict(width_shift_range=0.2, height_shift_range=0.2, zoom_range=0.2, shear_range=0.2)\n",
    "\n",
    "train_gen, test_gen, valid_gen = DataGen(train_set, test_set, valid_set, train_opts).from_tuple(BATCH_SIZE)"
   ]
  },
  {
   "cell_type": "code",
   "execution_count": 14,
   "metadata": {},
   "outputs": [],
   "source": [
    "import gc\n",
    "\n",
    "_ = gc.collect()"
   ]
  },
  {
   "cell_type": "markdown",
   "metadata": {},
   "source": [
    "### Train the model"
   ]
  },
  {
   "cell_type": "code",
   "execution_count": 14,
   "metadata": {},
   "outputs": [],
   "source": [
    "train_gen.reset()\n",
    "valid_gen.reset()"
   ]
  },
  {
   "cell_type": "code",
   "execution_count": 15,
   "metadata": {},
   "outputs": [
    {
     "name": "stdout",
     "output_type": "stream",
     "text": [
      "Epoch 1/20\n",
      "210/210 [==============================] - 44s 207ms/step - loss: 17.2201 - val_loss: 39.3090 - lr: 0.0010\n",
      "Epoch 2/20\n",
      "210/210 [==============================] - 43s 203ms/step - loss: 13.4741 - val_loss: 12.5752 - lr: 0.0010\n",
      "Epoch 3/20\n",
      "210/210 [==============================] - 47s 223ms/step - loss: 12.3051 - val_loss: 20.8910 - lr: 0.0010\n",
      "Epoch 4/20\n",
      "210/210 [==============================] - 42s 199ms/step - loss: 10.9767 - val_loss: 10.2916 - lr: 0.0010\n",
      "Epoch 5/20\n",
      "210/210 [==============================] - 40s 193ms/step - loss: 9.8539 - val_loss: 8.5381 - lr: 0.0010\n",
      "Epoch 6/20\n",
      "210/210 [==============================] - 41s 194ms/step - loss: 8.8273 - val_loss: 9.1339 - lr: 0.0010\n",
      "Epoch 7/20\n",
      "210/210 [==============================] - 41s 193ms/step - loss: 8.0070 - val_loss: 11.9160 - lr: 0.0010\n",
      "Epoch 8/20\n",
      "210/210 [==============================] - 44s 210ms/step - loss: 7.3156 - val_loss: 7.3793 - lr: 0.0010\n",
      "Epoch 9/20\n",
      "210/210 [==============================] - 43s 206ms/step - loss: 6.7782 - val_loss: 6.9341 - lr: 0.0010\n",
      "Epoch 10/20\n",
      "210/210 [==============================] - 48s 228ms/step - loss: 6.3733 - val_loss: 6.9433 - lr: 0.0010\n",
      "Epoch 11/20\n",
      "210/210 [==============================] - 44s 212ms/step - loss: 6.0536 - val_loss: 4.4236 - lr: 0.0010\n",
      "Epoch 12/20\n",
      "210/210 [==============================] - 44s 211ms/step - loss: 5.7975 - val_loss: 4.2700 - lr: 0.0010\n",
      "Epoch 13/20\n",
      "210/210 [==============================] - 42s 201ms/step - loss: 5.5812 - val_loss: 4.1504 - lr: 0.0010\n",
      "Epoch 14/20\n",
      "210/210 [==============================] - 42s 200ms/step - loss: 5.3921 - val_loss: 9.9586 - lr: 0.0010\n",
      "Epoch 15/20\n",
      "210/210 [==============================] - 44s 209ms/step - loss: 5.2291 - val_loss: 4.0837 - lr: 0.0010\n",
      "Epoch 16/20\n",
      "210/210 [==============================] - 43s 206ms/step - loss: 5.0878 - val_loss: 5.0959 - lr: 0.0010\n",
      "Epoch 17/20\n",
      "210/210 [==============================] - 45s 212ms/step - loss: 4.9513 - val_loss: 5.8026 - lr: 0.0010\n",
      "Epoch 18/20\n",
      "210/210 [==============================] - 43s 205ms/step - loss: 4.8740 - val_loss: 12.4799 - lr: 0.0010\n",
      "Epoch 19/20\n",
      "210/210 [==============================] - 41s 196ms/step - loss: 4.7921 - val_loss: 6.7317 - lr: 0.0010\n",
      "Epoch 20/20\n",
      "210/210 [==============================] - 43s 205ms/step - loss: 4.6860 - val_loss: 3.4413 - lr: 0.0010\n",
      "CPU times: user 30min 32s, sys: 1min 36s, total: 32min 9s\n",
      "Wall time: 14min 49s\n"
     ]
    }
   ],
   "source": [
    "%%time\n",
    "\n",
    "EPOCHS = 20\n",
    "\n",
    "training_results = net.model.fit(\n",
    "    train_gen,\n",
    "    steps_per_epoch=train_gen.n // BATCH_SIZE,\n",
    "    validation_data=valid_gen,\n",
    "    validation_steps=valid_gen.n // BATCH_SIZE,\n",
    "    epochs=EPOCHS,\n",
    "    callbacks=net.callbacks,\n",
    "    verbose=1\n",
    ")"
   ]
  },
  {
   "cell_type": "markdown",
   "metadata": {},
   "source": [
    "#### Check the statistics"
   ]
  },
  {
   "cell_type": "code",
   "execution_count": 16,
   "metadata": {
    "scrolled": false
   },
   "outputs": [
    {
     "data": {
      "image/png": "[encoded data removed]",
      "text/plain": [
       "<Figure size 576x576 with 4 Axes>"
      ]
     },
     "metadata": {
      "needs_background": "light"
     },
     "output_type": "display_data"
    }
   ],
   "source": [
    "_, axes = plt.subplots(2,2, figsize=(8,8))\n",
    "axes = axes.flatten()\n",
    "\n",
    "axes[0].plot(training_results.history[\"loss\"])\n",
    "axes[0].set_title(\"Training loss\")\n",
    "\n",
    "axes[1].plot(training_results.history[\"lr\"])\n",
    "axes[1].set_title(\"Learning rate\")\n",
    "\n",
    "axes[2].plot(training_results.history[\"val_loss\"])\n",
    "axes[2].set_title(\"Validation loss\")\n",
    "\n",
    "plt.show()"
   ]
  },
  {
   "cell_type": "markdown",
   "metadata": {},
   "source": [
    "#### Compute the WER and CER"
   ]
  },
  {
   "cell_type": "code",
   "execution_count": 17,
   "metadata": {
    "scrolled": true
   },
   "outputs": [
    {
     "name": "stdout",
     "output_type": "stream",
     "text": [
      "Model Predict\n",
      "68/68 [==============================] - 2s 36ms/step\n",
      "CTC Decode\n"
     ]
    },
    {
     "name": "stderr",
     "output_type": "stream",
     "text": [
      "WARNING:tensorflow:From /home/pachacho/miniconda3/envs/deep/lib/python3.6/site-packages/tensorflow/python/keras/backend.py:5871: sparse_to_dense (from tensorflow.python.ops.sparse_ops) is deprecated and will be removed in a future version.\n",
      "Instructions for updating:\n",
      "Create a `tf.sparse.SparseTensor` and use `tf.sparse.to_dense` instead.\n"
     ]
    },
    {
     "name": "stdout",
     "output_type": "stream",
     "text": [
      "68/68 [==============================] - 89s 1s/step\n",
      "\n",
      "17408\n"
     ]
    }
   ],
   "source": [
    "test_gen.reset()\n",
    "\n",
    "predictions, _ = net.predict(\n",
    "    test_gen,\n",
    "    steps=test_gen.n // BATCH_SIZE,\n",
    "    # batch_size=BATCH_SIZE,\n",
    "    verbose=1\n",
    ")\n",
    "\n",
    "print(f\"\\n{len(predictions)}\")\n",
    "\n",
    "# predictions = np.array(predictions)"
   ]
  },
  {
   "cell_type": "code",
   "execution_count": 18,
   "metadata": {},
   "outputs": [
    {
     "data": {
      "text/plain": [
       "array([array([16]), array([4]), array([4])], dtype=object)"
      ]
     },
     "execution_count": 18,
     "metadata": {},
     "output_type": "execute_result"
    }
   ],
   "source": [
    "predictions2 = np.array([np.array(v[0]).flatten() for v in predictions])\n",
    "predictions2[:3]"
   ]
  },
  {
   "cell_type": "code",
   "execution_count": 19,
   "metadata": {},
   "outputs": [],
   "source": [
    "vectorizer = StringVectorizer()\n",
    "\n",
    "true_labels = [vectorizer.decode(encoded_vector) for encoded_vector in test_gen.y]\n",
    "pred_labels = [vectorizer.decode(encoded_vector) for encoded_vector in predictions2]"
   ]
  },
  {
   "cell_type": "code",
   "execution_count": 20,
   "metadata": {},
   "outputs": [
    {
     "data": {
      "text/plain": [
       "0.9594686648501363"
      ]
     },
     "execution_count": 20,
     "metadata": {},
     "output_type": "execute_result"
    }
   ],
   "source": [
    "RecognitionNet.compute_cer(true_labels, pred_labels) # the closer to 1.0, the worse"
   ]
  },
  {
   "cell_type": "code",
   "execution_count": 21,
   "metadata": {},
   "outputs": [
    {
     "name": "stdout",
     "output_type": "stream",
     "text": [
      "4.563074448529412\n"
     ]
    }
   ],
   "source": [
    "wer_results = [RecognitionNet.compute_wer(t, p) for t, p in zip(true_labels, pred_labels)]\n",
    "\n",
    "print(np.mean(wer_results))\n",
    "# the closer to 0.0, the better"
   ]
  },
  {
   "cell_type": "code",
   "execution_count": 17,
   "metadata": {},
   "outputs": [],
   "source": [
    "import gc\n",
    "\n",
    "# del train_set, valid_set, train_gen, valid_gen\n",
    "\n",
    "_ = gc.collect()"
   ]
  },
  {
   "cell_type": "markdown",
   "metadata": {},
   "source": [
    "#### Optionally: Post-training quantization"
   ]
  },
  {
   "cell_type": "markdown",
   "metadata": {},
   "source": [
    "##### Save to protobuf"
   ]
  },
  {
   "cell_type": "code",
   "execution_count": 22,
   "metadata": {},
   "outputs": [
    {
     "name": "stderr",
     "output_type": "stream",
     "text": [
      "WARNING:tensorflow:From /home/pachacho/miniconda3/envs/deep/lib/python3.6/site-packages/tensorflow/python/ops/resource_variable_ops.py:1817: calling BaseResourceVariable.__init__ (from tensorflow.python.ops.resource_variable_ops) with constraint is deprecated and will be removed in a future version.\n",
      "Instructions for updating:\n",
      "If using Keras pass *_constraint arguments to layers.\n",
      "INFO:tensorflow:Assets written to: ./trained_models/baseline_iam_50_20e/assets\n"
     ]
    },
    {
     "data": {
      "text/plain": [
       "'/home/pachacho/Documents/text-processing/playground/trained_models/baseline_iam_50_20e.zip'"
      ]
     },
     "execution_count": 22,
     "metadata": {},
     "output_type": "execute_result"
    }
   ],
   "source": [
    "trained_model_dir = \"trained_models\"\n",
    "trained_model_name = \"_\".join([\"baseline\", \"iam\", \"50\"])\n",
    "\n",
    "os.makedirs(trained_model_dir, exist_ok=True)\n",
    "\n",
    "net.model.save(f\"./{trained_model_dir}/{trained_model_name}_{EPOCHS}e\")\n",
    "make_archive(\n",
    "    f\"./{trained_model_dir}/{trained_model_name}_{EPOCHS}e\",\n",
    "    \"zip\",\n",
    "    f\"./{trained_model_dir}/{trained_model_name}_{EPOCHS}e/\"\n",
    ")"
   ]
  },
  {
   "cell_type": "code",
   "execution_count": 29,
   "metadata": {},
   "outputs": [],
   "source": [
    "# !export PATH=$PATH:/home/pachacho/miniconda3/envs/deep/bin/toco_from_protos"
   ]
  },
  {
   "cell_type": "code",
   "execution_count": 30,
   "metadata": {},
   "outputs": [
    {
     "name": "stderr",
     "output_type": "stream",
     "text": [
      "INFO:absl:Using experimental converter: If you encountered a problem please file a bug. You can opt-out by setting experimental_new_converter=False\n"
     ]
    },
    {
     "ename": "ConverterError",
     "evalue": "Could not find toco_from_protos binary, make sure\nyour virtualenv bin directory or pip local bin directory is in your path.\nIn particular, if you have installed TensorFlow with --user, make sure you\nadd the install directory to your path.\n\nFor example:\nLinux: export PATH=$PATH:~/.local/bin/\nMac: export PATH=$PATH:~/Library/Python/<version#>/bin\n\nAlternative, use virtualenv.",
     "output_type": "error",
     "traceback": [
      "\u001b[0;31m---------------------------------------------------------------------------\u001b[0m",
      "\u001b[0;31mConverterError\u001b[0m                            Traceback (most recent call last)",
      "\u001b[0;32m<ipython-input-30-d980de4fc07e>\u001b[0m in \u001b[0;36m<module>\u001b[0;34m\u001b[0m\n\u001b[1;32m      9\u001b[0m ]\n\u001b[1;32m     10\u001b[0m \u001b[0;34m\u001b[0m\u001b[0m\n\u001b[0;32m---> 11\u001b[0;31m \u001b[0mtflife_quant_model\u001b[0m \u001b[0;34m=\u001b[0m \u001b[0mconverter\u001b[0m\u001b[0;34m.\u001b[0m\u001b[0mconvert\u001b[0m\u001b[0;34m(\u001b[0m\u001b[0;34m)\u001b[0m\u001b[0;34m\u001b[0m\u001b[0;34m\u001b[0m\u001b[0m\n\u001b[0m",
      "\u001b[0;32m~/miniconda3/envs/deep/lib/python3.6/site-packages/tensorflow/lite/python/lite.py\u001b[0m in \u001b[0;36mconvert\u001b[0;34m(self)\u001b[0m\n\u001b[1;32m    516\u001b[0m         \u001b[0minput_tensors\u001b[0m\u001b[0;34m=\u001b[0m\u001b[0minput_tensors\u001b[0m\u001b[0;34m,\u001b[0m\u001b[0;34m\u001b[0m\u001b[0;34m\u001b[0m\u001b[0m\n\u001b[1;32m    517\u001b[0m         \u001b[0moutput_tensors\u001b[0m\u001b[0;34m=\u001b[0m\u001b[0moutput_tensors\u001b[0m\u001b[0;34m,\u001b[0m\u001b[0;34m\u001b[0m\u001b[0;34m\u001b[0m\u001b[0m\n\u001b[0;32m--> 518\u001b[0;31m         **converter_kwargs)\n\u001b[0m\u001b[1;32m    519\u001b[0m \u001b[0;34m\u001b[0m\u001b[0m\n\u001b[1;32m    520\u001b[0m     \u001b[0;32mif\u001b[0m \u001b[0mself\u001b[0m\u001b[0;34m.\u001b[0m\u001b[0m_is_calibration_quantize\u001b[0m\u001b[0;34m(\u001b[0m\u001b[0;34m)\u001b[0m\u001b[0;34m:\u001b[0m\u001b[0;34m\u001b[0m\u001b[0;34m\u001b[0m\u001b[0m\n",
      "\u001b[0;32m~/miniconda3/envs/deep/lib/python3.6/site-packages/tensorflow/lite/python/convert.py\u001b[0m in \u001b[0;36mtoco_convert_impl\u001b[0;34m(input_data, input_tensors, output_tensors, enable_mlir_converter, *args, **kwargs)\u001b[0m\n\u001b[1;32m    494\u001b[0m       \u001b[0minput_data\u001b[0m\u001b[0;34m.\u001b[0m\u001b[0mSerializeToString\u001b[0m\u001b[0;34m(\u001b[0m\u001b[0;34m)\u001b[0m\u001b[0;34m,\u001b[0m\u001b[0;34m\u001b[0m\u001b[0;34m\u001b[0m\u001b[0m\n\u001b[1;32m    495\u001b[0m       \u001b[0mdebug_info_str\u001b[0m\u001b[0;34m=\u001b[0m\u001b[0mdebug_info_str\u001b[0m\u001b[0;34m,\u001b[0m\u001b[0;34m\u001b[0m\u001b[0;34m\u001b[0m\u001b[0m\n\u001b[0;32m--> 496\u001b[0;31m       enable_mlir_converter=enable_mlir_converter)\n\u001b[0m\u001b[1;32m    497\u001b[0m   \u001b[0;32mreturn\u001b[0m \u001b[0mdata\u001b[0m\u001b[0;34m\u001b[0m\u001b[0;34m\u001b[0m\u001b[0m\n\u001b[1;32m    498\u001b[0m \u001b[0;34m\u001b[0m\u001b[0m\n",
      "\u001b[0;32m~/miniconda3/envs/deep/lib/python3.6/site-packages/tensorflow/lite/python/convert.py\u001b[0m in \u001b[0;36mtoco_convert_protos\u001b[0;34m(model_flags_str, toco_flags_str, input_data_str, debug_info_str, enable_mlir_converter)\u001b[0m\n\u001b[1;32m    160\u001b[0m \u001b[0mMac\u001b[0m\u001b[0;34m:\u001b[0m \u001b[0mexport\u001b[0m \u001b[0mPATH\u001b[0m\u001b[0;34m=\u001b[0m\u001b[0;31m$\u001b[0m\u001b[0mPATH\u001b[0m\u001b[0;34m:\u001b[0m\u001b[0;34m~\u001b[0m\u001b[0;34m/\u001b[0m\u001b[0mLibrary\u001b[0m\u001b[0;34m/\u001b[0m\u001b[0mPython\u001b[0m\u001b[0;34m/\u001b[0m\u001b[0;34m<\u001b[0m\u001b[0mversion\u001b[0m\u001b[0;31m#>/bin\u001b[0m\u001b[0;34m\u001b[0m\u001b[0;34m\u001b[0m\u001b[0m\n\u001b[1;32m    161\u001b[0m \u001b[0;34m\u001b[0m\u001b[0m\n\u001b[0;32m--> 162\u001b[0;31m Alternative, use virtualenv.\"\"\")\n\u001b[0m\u001b[1;32m    163\u001b[0m   \u001b[0;31m# Windows and TemporaryFile are not that useful together,\u001b[0m\u001b[0;34m\u001b[0m\u001b[0;34m\u001b[0m\u001b[0;34m\u001b[0m\u001b[0m\n\u001b[1;32m    164\u001b[0m   \u001b[0;31m# since you cannot have two readers/writers. So we have to\u001b[0m\u001b[0;34m\u001b[0m\u001b[0;34m\u001b[0m\u001b[0;34m\u001b[0m\u001b[0m\n",
      "\u001b[0;31mConverterError\u001b[0m: Could not find toco_from_protos binary, make sure\nyour virtualenv bin directory or pip local bin directory is in your path.\nIn particular, if you have installed TensorFlow with --user, make sure you\nadd the install directory to your path.\n\nFor example:\nLinux: export PATH=$PATH:~/.local/bin/\nMac: export PATH=$PATH:~/Library/Python/<version#>/bin\n\nAlternative, use virtualenv."
     ]
    }
   ],
   "source": [
    "converter = tf.lite.TFLiteConverter.from_keras_model(net.model)\n",
    "# converter = tf.lite.TFLiteConverter.from_saved_model(f\"./{trained_model_dir}/{trained_model_name}_{EPOCHS}e\")\n",
    "\n",
    "converter.optimizations = [tf.lite.Optimize.DEFAULT]\n",
    "\n",
    "converter.target_spec.supported_ops = [\n",
    "    # tf.lite.OpsSet.TFLITE_BUILTINS\n",
    "    # tf.lite.OpsSet.EXPERIMENTAL_TFLITE_BUILTINS_ACTIVATIONS_INT16_WEIGHTS_INT8\n",
    "]\n",
    "\n",
    "tflife_quant_model = converter.convert()"
   ]
  },
  {
   "cell_type": "markdown",
   "metadata": {},
   "source": [
    "#### Evaluate the test dataset"
   ]
  },
  {
   "cell_type": "code",
   "execution_count": 23,
   "metadata": {},
   "outputs": [
    {
     "name": "stdout",
     "output_type": "stream",
     "text": [
      "68/68 [==============================] - 7s 106ms/step - loss: 3.4853\n"
     ]
    },
    {
     "data": {
      "text/plain": [
       "3.4852795600891113"
      ]
     },
     "execution_count": 23,
     "metadata": {},
     "output_type": "execute_result"
    }
   ],
   "source": [
    "test_gen.reset()\n",
    "\n",
    "net.model.evaluate(\n",
    "    test_gen,\n",
    "    steps=test_gen.n // BATCH_SIZE,\n",
    "    batch_size=BATCH_SIZE,\n",
    "    verbose=1\n",
    ")"
   ]
  },
  {
   "cell_type": "markdown",
   "metadata": {},
   "source": [
    "#### Test a network prediction"
   ]
  },
  {
   "cell_type": "code",
   "execution_count": 24,
   "metadata": {},
   "outputs": [],
   "source": [
    "test_gen.reset()\n",
    "test_batch = test_gen.next()"
   ]
  },
  {
   "cell_type": "code",
   "execution_count": 25,
   "metadata": {},
   "outputs": [
    {
     "name": "stdout",
     "output_type": "stream",
     "text": [
      "(256, 192, 48, 1) (256, 34)\n",
      "was\n"
     ]
    },
    {
     "data": {
      "image/png": "[encoded data removed]",
      "text/plain": [
       "<Figure size 432x288 with 1 Axes>"
      ]
     },
     "metadata": {
      "needs_background": "light"
     },
     "output_type": "display_data"
    }
   ],
   "source": [
    "from keras.preprocessing.image import load_img, img_to_array\n",
    "\n",
    "vectorizer = StringVectorizer()\n",
    "\n",
    "print(test_batch[0].shape, test_batch[1].shape)\n",
    "\n",
    "sample_idx = np.random.randint(BATCH_SIZE)\n",
    "\n",
    "test_vector = test_batch[1][sample_idx, :]\n",
    "print(vectorizer.decode(test_vector))\n",
    "\n",
    "test_image = test_batch[0][sample_idx,:,:,0]\n",
    "plt.imshow(test_image.transpose(), cmap=\"gray\")\n",
    "plt.axis(\"off\")\n",
    "plt.show()"
   ]
  },
  {
   "cell_type": "code",
   "execution_count": 26,
   "metadata": {
    "scrolled": true
   },
   "outputs": [],
   "source": [
    "test_image_pred = np.expand_dims(test_image, axis=[0,-1])\n",
    "\n",
    "preds, probs = net.predict(test_image_pred)"
   ]
  },
  {
   "cell_type": "code",
   "execution_count": 27,
   "metadata": {},
   "outputs": [
    {
     "name": "stdout",
     "output_type": "stream",
     "text": [
      "tas\n"
     ]
    }
   ],
   "source": [
    "vector = list(preds[0][0])\n",
    "\n",
    "predicted_text = vectorizer.decode(vector)\n",
    "\n",
    "print(predicted_text)"
   ]
  },
  {
   "cell_type": "markdown",
   "metadata": {},
   "source": [
    "### Save the trained model to `protobuf` (portable) format"
   ]
  },
  {
   "cell_type": "code",
   "execution_count": 20,
   "metadata": {},
   "outputs": [
    {
     "name": "stderr",
     "output_type": "stream",
     "text": [
      "WARNING:tensorflow:Skipping full serialization of Keras layer <tensorflow.python.keras.layers.convolutional.UpSampling2D object at 0x7f2af8279390>, because it is not built.\n",
      "WARNING:tensorflow:Skipping full serialization of Keras layer <tensorflow.python.keras.layers.convolutional.UpSampling2D object at 0x7f2af805fe10>, because it is not built.\n",
      "WARNING:tensorflow:Skipping full serialization of Keras layer <tensorflow.python.keras.layers.convolutional.UpSampling2D object at 0x7f2af80b0358>, because it is not built.\n",
      "WARNING:tensorflow:Skipping full serialization of Keras layer <tensorflow.python.keras.layers.convolutional.UpSampling2D object at 0x7f2af81d9978>, because it is not built.\n",
      "WARNING:tensorflow:Skipping full serialization of Keras layer <tensorflow.python.keras.layers.convolutional.UpSampling2D object at 0x7f2af82f1f98>, because it is not built.\n",
      "WARNING:tensorflow:Skipping full serialization of Keras layer <tensorflow.python.keras.layers.convolutional.Conv2D object at 0x7f2af827bda0>, because it is not built.\n",
      "WARNING:tensorflow:Skipping full serialization of Keras layer <tensorflow.python.keras.layers.convolutional.Conv2D object at 0x7f2af82b3f60>, because it is not built.\n",
      "WARNING:tensorflow:Skipping full serialization of Keras layer <tensorflow.python.keras.layers.convolutional.Conv2D object at 0x7f2af805aa20>, because it is not built.\n",
      "WARNING:tensorflow:Skipping full serialization of Keras layer <tensorflow.python.keras.layers.convolutional.Conv2D object at 0x7f2af805a710>, because it is not built.\n",
      "WARNING:tensorflow:Skipping full serialization of Keras layer <tensorflow.python.keras.layers.convolutional.Conv2D object at 0x7f2af80a8a90>, because it is not built.\n",
      "WARNING:tensorflow:Skipping full serialization of Keras layer <tensorflow.python.keras.layers.convolutional.Conv2D object at 0x7f2af80a8cc0>, because it is not built.\n",
      "WARNING:tensorflow:Skipping full serialization of Keras layer <tensorflow.python.keras.layers.convolutional.Conv2D object at 0x7f2af81d90f0>, because it is not built.\n",
      "WARNING:tensorflow:Skipping full serialization of Keras layer <tensorflow.python.keras.layers.convolutional.Conv2D object at 0x7f2af81d9320>, because it is not built.\n",
      "WARNING:tensorflow:Skipping full serialization of Keras layer <tensorflow.python.keras.layers.convolutional.Conv2D object at 0x7f2af82f1710>, because it is not built.\n",
      "WARNING:tensorflow:Skipping full serialization of Keras layer <tensorflow.python.keras.layers.convolutional.Conv2D object at 0x7f2af82f1940>, because it is not built.\n",
      "INFO:tensorflow:Assets written to: ./trained_models/octave_iam_20e/assets\n"
     ]
    },
    {
     "data": {
      "text/plain": [
       "'/home/pachacho/Documents/text-processing/playground/trained_models/octave_iam_20e.zip'"
      ]
     },
     "execution_count": 20,
     "metadata": {},
     "output_type": "execute_result"
    }
   ],
   "source": [
    "trained_model_dir = \"trained_models\"\n",
    "trained_model_name = \"_\".join([\"baseline\", \"iam\", \"50\"])\n",
    "\n",
    "os.makedirs(trained_model_dir, exist_ok=True)\n",
    "\n",
    "net.model.save(f\"./{trained_model_dir}/{trained_model_name}_{EPOCHS}e\")\n",
    "make_archive(\n",
    "    f\"./{trained_model_dir}/{trained_model_name}_{EPOCHS}e\",\n",
    "    \"zip\",\n",
    "    f\"./{trained_model_dir}/{trained_model_name}_{EPOCHS}e/\"\n",
    ")"
   ]
  },
  {
   "cell_type": "markdown",
   "metadata": {},
   "source": [
    "#### End"
   ]
  },
  {
   "cell_type": "code",
   "execution_count": null,
   "metadata": {},
   "outputs": [],
   "source": [
    "# remove the temporal directory in the end\n",
    "if save_to_disk:\n",
    "    rm_dir(dataset_dest_dir)"
   ]
  }
 ],
 "metadata": {
  "kernelspec": {
   "display_name": "deep",
   "language": "python",
   "name": "deep"
  },
  "language_info": {
   "codemirror_mode": {
    "name": "ipython",
    "version": 3
   },
   "file_extension": ".py",
   "mimetype": "text/x-python",
   "name": "python",
   "nbconvert_exporter": "python",
   "pygments_lexer": "ipython3",
   "version": "3.6.10"
  }
 },
 "nbformat": 4,
 "nbformat_minor": 4
}
